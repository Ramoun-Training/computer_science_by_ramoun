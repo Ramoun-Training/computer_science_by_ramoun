{
 "metadata": {
  "language_info": {
   "codemirror_mode": {
    "name": "ipython",
    "version": 3
   },
   "file_extension": ".py",
   "mimetype": "text/x-python",
   "name": "python",
   "nbconvert_exporter": "python",
   "pygments_lexer": "ipython3",
   "version": "3.8.5-final"
  },
  "orig_nbformat": 2,
  "kernelspec": {
   "name": "python_defaultSpec_1598391419289",
   "display_name": "Python 3.8.5 64-bit"
  }
 },
 "nbformat": 4,
 "nbformat_minor": 2,
 "cells": [
  {
   "cell_type": "code",
   "execution_count": 1,
   "metadata": {
    "tags": []
   },
   "outputs": [
    {
     "output_type": "stream",
     "name": "stdout",
     "text": "[9, 1, 2, 4, 6, 7, 8]\n[1, 2, 4, 6, 7, 8, 9]\n"
    }
   ],
   "source": [
    "l = [9,1,2,4,6,7,8]\n",
    "sorted_l = sorted(l)\n",
    "\n",
    "print(l)\n",
    "print(sorted_l)"
   ]
  },
  {
   "cell_type": "code",
   "execution_count": 2,
   "metadata": {
    "tags": []
   },
   "outputs": [
    {
     "output_type": "stream",
     "name": "stdout",
     "text": "[9, 1, 2, 4, 6, 7, 8]\n[1, 2, 4, 6, 7, 8, 9]\n"
    }
   ],
   "source": [
    "l = [9,1,2,4,6,7,8]\n",
    "\n",
    "print(l)\n",
    "l.sort()\n",
    "print(l)"
   ]
  },
  {
   "cell_type": "code",
   "execution_count": 4,
   "metadata": {},
   "outputs": [
    {
     "output_type": "execute_result",
     "data": {
      "text/plain": "[-1, 1, -2, 2, 3, -5]"
     },
     "metadata": {},
     "execution_count": 4
    }
   ],
   "source": [
    "l = [-5,-2,-1,1,2,3]\n",
    "sorted_l = sorted(l, key=abs)\n",
    "sorted_l"
   ]
  },
  {
   "cell_type": "code",
   "execution_count": 5,
   "metadata": {},
   "outputs": [
    {
     "output_type": "error",
     "ename": "TypeError",
     "evalue": "'<' not supported between instances of 'Employee' and 'Employee'",
     "traceback": [
      "\u001b[0;31m---------------------------------------------------------------------------\u001b[0m",
      "\u001b[0;31mTypeError\u001b[0m                                 Traceback (most recent call last)",
      "\u001b[0;32m<ipython-input-5-91763da567b4>\u001b[0m in \u001b[0;36m<module>\u001b[0;34m\u001b[0m\n\u001b[1;32m     14\u001b[0m \u001b[0memployees\u001b[0m \u001b[0;34m=\u001b[0m \u001b[0;34m[\u001b[0m\u001b[0memp1\u001b[0m\u001b[0;34m,\u001b[0m \u001b[0memp2\u001b[0m\u001b[0;34m,\u001b[0m \u001b[0memp3\u001b[0m\u001b[0;34m]\u001b[0m\u001b[0;34m\u001b[0m\u001b[0;34m\u001b[0m\u001b[0m\n\u001b[1;32m     15\u001b[0m \u001b[0;34m\u001b[0m\u001b[0m\n\u001b[0;32m---> 16\u001b[0;31m \u001b[0msorted_employees\u001b[0m \u001b[0;34m=\u001b[0m \u001b[0msorted\u001b[0m\u001b[0;34m(\u001b[0m\u001b[0memployees\u001b[0m\u001b[0;34m)\u001b[0m\u001b[0;34m\u001b[0m\u001b[0;34m\u001b[0m\u001b[0m\n\u001b[0m\u001b[1;32m     17\u001b[0m \u001b[0;34m\u001b[0m\u001b[0m\n\u001b[1;32m     18\u001b[0m \u001b[0mprint\u001b[0m\u001b[0;34m(\u001b[0m\u001b[0msorted_employees\u001b[0m\u001b[0;34m)\u001b[0m\u001b[0;34m\u001b[0m\u001b[0;34m\u001b[0m\u001b[0m\n",
      "\u001b[0;31mTypeError\u001b[0m: '<' not supported between instances of 'Employee' and 'Employee'"
     ]
    }
   ],
   "source": [
    "class Employee:\n",
    "    def __init__(self, name, age, salary):\n",
    "        self.name = name\n",
    "        self.age = age\n",
    "        self.salary = salary\n",
    "\n",
    "    def __repr__(self):\n",
    "        return f'{self.name}, {self.age}, ${self.salary}'\n",
    "\n",
    "emp1 = Employee('ramoun', 23, 5000)        \n",
    "emp2 = Employee('steve', 28, 4000)        \n",
    "emp3 = Employee('micke', 33, 8000)        \n",
    "\n",
    "employees = [emp1, emp2, emp3]\n",
    "\n",
    "sorted_employees = sorted(employees) # sorting objects without providing the sorting creteria is not possible in python\n",
    "\n",
    "print(sorted_employees)\n",
    "# output: TypeError: '<' not supported between instances of 'Employee' and 'Employee'"
   ]
  },
  {
   "cell_type": "code",
   "execution_count": 10,
   "metadata": {
    "tags": []
   },
   "outputs": [
    {
     "output_type": "stream",
     "name": "stdout",
     "text": "[micke, 33, $8000, ramoun, 23, $5000, steve, 28, $4000]\n[ramoun, 23, $5000, steve, 28, $4000, micke, 33, $8000]\n[micke, 33, $8000, ramoun, 23, $5000, steve, 28, $4000]\n"
    }
   ],
   "source": [
    "# custom sorting function for the Employee objs\n",
    "# better use functions for complex sorting for objects\n",
    "def sort_emps_name(emp):\n",
    "    return emp.name\n",
    "def sort_emps_age(emp):\n",
    "    return emp.age\n",
    "def sort_emps_salary(emp):\n",
    "    return emp.salary\n",
    "\n",
    "\n",
    "sorted_employees = sorted(employees, key=sort_emps_name)\n",
    "print(sorted_employees)\n",
    "\n",
    "# use lambda functions for easy tasks\n",
    "sorted_employees = sorted(employees, key=lambda x:x.age)\n",
    "print(sorted_employees)\n",
    "\n",
    "sorted_employees = sorted(employees, key=sort_emps_salary, reverse=True)\n",
    "print(sorted_employees)"
   ]
  },
  {
   "cell_type": "code",
   "execution_count": null,
   "metadata": {},
   "outputs": [],
   "source": []
  },
  {
   "cell_type": "code",
   "execution_count": 11,
   "metadata": {
    "tags": []
   },
   "outputs": [
    {
     "output_type": "stream",
     "name": "stdout",
     "text": "[micke, 33, $8000, ramoun, 23, $5000, steve, 28, $4000]\n"
    }
   ],
   "source": [
    "# when working with operators of objects, it is better use the operator module\n",
    "from operator import attrgetter\n",
    "sorted_employees = sorted(employees, key=attrgetter('name'))\n",
    "print(sorted_employees)"
   ]
  }
 ]
}