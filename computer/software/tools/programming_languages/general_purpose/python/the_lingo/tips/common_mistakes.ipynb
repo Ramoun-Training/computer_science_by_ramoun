{
 "metadata": {
  "language_info": {
   "codemirror_mode": {
    "name": "ipython",
    "version": 3
   },
   "file_extension": ".py",
   "mimetype": "text/x-python",
   "name": "python",
   "nbconvert_exporter": "python",
   "pygments_lexer": "ipython3",
   "version": "3.8.5-final"
  },
  "orig_nbformat": 2,
  "kernelspec": {
   "name": "python_defaultSpec_1599323360043",
   "display_name": "Python 3.8.5 64-bit"
  }
 },
 "nbformat": 4,
 "nbformat_minor": 2,
 "cells": [
  {
   "cell_type": "markdown",
   "metadata": {},
   "source": [
    "# Most Common Mistakes in python\n",
    "\n",
    "link: [corey's video](https://www.youtube.com/watch?v=zdJEYhA2AZQ&list=PL-osiE80TeTskrapNbzXhwoFUiLCjGgY7&index=26&ab_channel=CoreySchafer)\n",
    "\n",
    "<iframe width=\"853\" height=\"280\" src=\"https://www.youtube.com/embed/zdJEYhA2AZQ?list=PL-osiE80TeTskrapNbzXhwoFUiLCjGgY7\" frameborder=\"0\" allow=\"accelerometer; autoplay; encrypted-media; gyroscope; picture-in-picture\" allowfullscreen></iframe>"
   ]
  },
  {
   "cell_type": "markdown",
   "metadata": {},
   "source": [
    "## 1. Mixing tabs and spaces\n",
    "\n",
    "using 4 spaces: '    '\n",
    "using 1 tab: '    '\n",
    "\n",
    "**Note**: make sure the convert tabs into spaces option is checked in your ide/editor."
   ]
  },
  {
   "cell_type": "code",
   "execution_count": 3,
   "metadata": {
    "tags": []
   },
   "outputs": [
    {
     "output_type": "stream",
     "name": "stdout",
     "text": "0 -> 0\n1 -> 1\n2 -> 4\n3 -> 9\n4 -> 16\n5 -> 25\n6 -> 36\n7 -> 49\n8 -> 64\n9 -> 81\n"
    }
   ],
   "source": [
    "for i in range(10):\n",
    "    print(i, end=\" -> \")\n",
    "    print(i*i)"
   ]
  },
  {
   "cell_type": "markdown",
   "metadata": {},
   "source": [
    "## 2. Naming Conflicts\n",
    "\n",
    "> create a `math.py` file\n"
   ]
  },
  {
   "cell_type": "code",
   "execution_count": 4,
   "metadata": {
    "tags": []
   },
   "outputs": [
    {
     "output_type": "stream",
     "name": "stdout",
     "text": "1.0\n"
    }
   ],
   "source": [
    "# add the following code to the 'math.py' file\n",
    "from math import radians, sin\n",
    "rads = radians(90)\n",
    "print(sin(rads))"
   ]
  },
  {
   "cell_type": "markdown",
   "metadata": {},
   "source": [
    "> **Note**: no error occures because the code is not written in a `math.py` file, but if done the following error will occur.Because python will try to import the radians and sin functions from the `__main__` module instead of the standard library (LEGB).\n",
    "```python\n",
    "ImportError: cannot import name 'radians' from 'math'\n",
    "``` \n",
    "\n",
    "> **Note**: if you cannot import a module from the standard library, it's pretty limited as to what the problem could be.\n",
    "> **Tip**: if you get an `ImportError` then most of the time it is an issue withthe path."
   ]
  },
  {
   "cell_type": "code",
   "execution_count": 5,
   "metadata": {
    "tags": []
   },
   "outputs": [
    {
     "output_type": "stream",
     "name": "stdout",
     "text": "1.0\n"
    },
    {
     "output_type": "error",
     "ename": "TypeError",
     "evalue": "'float' object is not callable",
     "traceback": [
      "\u001b[0;31m---------------------------------------------------------------------------\u001b[0m",
      "\u001b[0;31mTypeError\u001b[0m                                 Traceback (most recent call last)",
      "\u001b[0;32m<ipython-input-5-aa8b9db0d6e0>\u001b[0m in \u001b[0;36m<module>\u001b[0;34m\u001b[0m\n\u001b[1;32m      2\u001b[0m \u001b[0mradians\u001b[0m \u001b[0;34m=\u001b[0m \u001b[0mradians\u001b[0m\u001b[0;34m(\u001b[0m\u001b[0;36m90\u001b[0m\u001b[0;34m)\u001b[0m\u001b[0;34m\u001b[0m\u001b[0;34m\u001b[0m\u001b[0m\n\u001b[1;32m      3\u001b[0m \u001b[0mprint\u001b[0m\u001b[0;34m(\u001b[0m\u001b[0msin\u001b[0m\u001b[0;34m(\u001b[0m\u001b[0mradians\u001b[0m\u001b[0;34m)\u001b[0m\u001b[0;34m)\u001b[0m\u001b[0;34m\u001b[0m\u001b[0;34m\u001b[0m\u001b[0m\n\u001b[0;32m----> 4\u001b[0;31m \u001b[0mprint\u001b[0m\u001b[0;34m(\u001b[0m\u001b[0mradians\u001b[0m\u001b[0;34m(\u001b[0m\u001b[0;36m180\u001b[0m\u001b[0;34m)\u001b[0m\u001b[0;34m)\u001b[0m\u001b[0;34m\u001b[0m\u001b[0;34m\u001b[0m\u001b[0m\n\u001b[0m",
      "\u001b[0;31mTypeError\u001b[0m: 'float' object is not callable"
     ]
    }
   ],
   "source": [
    "from math import radians, sin\n",
    "radians = radians(90)\n",
    "print(sin(radians))\n",
    "print(radians(180))"
   ]
  },
  {
   "cell_type": "markdown",
   "metadata": {},
   "source": [
    "> **Note**: python gives the developer a lot of freedom but sometimes freedom alows the developer to override things that can cause issues later because python is not a compiled language, so it's not going to pick these things up before running the code."
   ]
  },
  {
   "cell_type": "markdown",
   "metadata": {},
   "source": [
    "## 3. Mutable default args\n",
    "`Default arguments are only executed once when the function is declared `"
   ]
  },
  {
   "cell_type": "code",
   "execution_count": 7,
   "metadata": {
    "tags": []
   },
   "outputs": [
    {
     "output_type": "stream",
     "name": "stdout",
     "text": "['mike']\n['mike', 'corey']\n['mike', 'corey', 'jack']\n"
    }
   ],
   "source": [
    "def add_employee(emp, emp_list=[]):\n",
    "    emp_list.append(emp)\n",
    "    print(emp_list)\n",
    "\n",
    "emps = ['ramoun', 'python']    \n",
    "add_employee('mike')\n",
    "add_employee('corey')\n",
    "add_employee('jack')\n",
    "# as you can see instead of creating a new list each time we call the function it keeps adding to the first created list, WHY?"
   ]
  },
  {
   "cell_type": "markdown",
   "metadata": {},
   "source": [
    "> **Note**: in python, default args are evaluated once at the time it creates the function, so it's not actually creating a new empty list each time you call the function, you won't notice this with immutable types like strings, tuples ..etc, but with mutable data types like lists, it uses the same list that was created when the function was defined."
   ]
  },
  {
   "cell_type": "code",
   "execution_count": 8,
   "metadata": {
    "tags": []
   },
   "outputs": [
    {
     "output_type": "stream",
     "name": "stdout",
     "text": "['mike']\n['corey']\n['jack']\n"
    }
   ],
   "source": [
    "# a way better way\n",
    "def add_employee(emp, emp_list=None):\n",
    "    if emp_list is None: # or you can use : if !emp_list: -> because None is evaluated to False in  boolean(logical) expressions. But, With the \"if not emp_list\", if we feed the add_employee function with an empty list emps, the name will not be appended to emps. Thus, \"... is None\" and \"not ...\" are not always interchangeable -> to understand this try ([] is None, not []) and see the result.\n",
    "        emp_list = [] # this will get run everytime the functionn is called because it's within the function\n",
    "    emp_list.append(emp)\n",
    "    print(emp_list)\n",
    "\n",
    "add_employee('mike')\n",
    "add_employee('corey')\n",
    "add_employee('jack')"
   ]
  },
  {
   "cell_type": "markdown",
   "metadata": {},
   "source": [
    "### Another Example"
   ]
  },
  {
   "cell_type": "code",
   "execution_count": 10,
   "metadata": {
    "tags": []
   },
   "outputs": [
    {
     "output_type": "stream",
     "name": "stdout",
     "text": "September 04, 2020 13:46:23\nSeptember 04, 2020 13:46:23\n"
    }
   ],
   "source": [
    "import time\n",
    "from datetime import datetime\n",
    "\n",
    "def display_time(time=datetime.now()): # it only executes those default args once the function is declared\n",
    "    print(time.strftime('%B %d, %Y %H:%M:%S'))\n",
    "\n",
    "display_time()\n",
    "time.sleep(4)\n",
    "display_time()    "
   ]
  },
  {
   "cell_type": "code",
   "execution_count": 11,
   "metadata": {
    "tags": []
   },
   "outputs": [
    {
     "output_type": "stream",
     "name": "stdout",
     "text": "September 04, 2020 13:49:18\nSeptember 04, 2020 13:49:22\n"
    }
   ],
   "source": [
    "import time\n",
    "from datetime import datetime\n",
    "\n",
    "def display_time(time=None): # it only executes those default args once the function is declared\n",
    "    if not time:\n",
    "        time = datetime.now()\n",
    "    print(time.strftime('%B %d, %Y %H:%M:%S'))\n",
    "\n",
    "display_time()\n",
    "time.sleep(4)\n",
    "display_time()    "
   ]
  },
  {
   "cell_type": "code",
   "execution_count": 13,
   "metadata": {},
   "outputs": [
    {
     "output_type": "stream",
     "text": "\u001b[0;31mInit signature:\u001b[0m \u001b[0mdatetime\u001b[0m\u001b[0;34m(\u001b[0m\u001b[0mself\u001b[0m\u001b[0;34m,\u001b[0m \u001b[0;34m/\u001b[0m\u001b[0;34m,\u001b[0m \u001b[0;34m*\u001b[0m\u001b[0margs\u001b[0m\u001b[0;34m,\u001b[0m \u001b[0;34m**\u001b[0m\u001b[0mkwargs\u001b[0m\u001b[0;34m)\u001b[0m\u001b[0;34m\u001b[0m\u001b[0;34m\u001b[0m\u001b[0m\n\u001b[0;31mDocstring:\u001b[0m     \ndatetime(year, month, day[, hour[, minute[, second[, microsecond[,tzinfo]]]]])\n\nThe year, month and day arguments are required. tzinfo may be None, or an\ninstance of a tzinfo subclass. The remaining arguments may be ints.\n\u001b[0;31mFile:\u001b[0m           /usr/lib/python3.8/datetime.py\n\u001b[0;31mType:\u001b[0m           type\n\u001b[0;31mSubclasses:\u001b[0m     \n"
    }
   ],
   "source": [
    "?datetime"
   ]
  },
  {
   "cell_type": "code",
   "execution_count": 13,
   "metadata": {
    "tags": []
   },
   "outputs": [
    {
     "output_type": "stream",
     "name": "stdout",
     "text": "hi\nworld\n"
    }
   ],
   "source": [
    "def some_func(word, string=''):\n",
    "    string += word\n",
    "    return string\n",
    "\n",
    "w1 = 'hi'    \n",
    "w2 = 'world'\n",
    "print(some_func(w1))\n",
    "print(some_func(w2))"
   ]
  },
  {
   "cell_type": "markdown",
   "metadata": {},
   "source": [
    "## 4. Exhausting Iterators\n",
    "\n",
    "> **Note**: in python3 `zip()` no longer returns a list as of python2, instead it returns an iterator object. Because that's good for efficiency.\n",
    "\n",
    "> **Note**: iterators can be exhausted unlike lists, tuples..etc.\n"
   ]
  },
  {
   "cell_type": "code",
   "execution_count": 15,
   "metadata": {
    "tags": []
   },
   "outputs": [
    {
     "output_type": "stream",
     "name": "stdout",
     "text": "<zip object at 0x7f8db6371a40>\n[(1, 'jan'), (2, 'feb'), (3, 'mar')]\n"
    }
   ],
   "source": [
    "month_name = ['jan', 'feb', 'mar']\n",
    "month_index = [1, 2, 3]\n",
    "months = zip(month_index, month_name)\n",
    "print(months)\n",
    "\n",
    "print(list(months))\n",
    "\n",
    "for i in months:\n",
    "    print(i)"
   ]
  },
  {
   "cell_type": "code",
   "execution_count": 16,
   "metadata": {
    "tags": []
   },
   "outputs": [
    {
     "output_type": "stream",
     "name": "stdout",
     "text": "<zip object at 0x7f8db6268700>\n[(1, 'jan'), (2, 'feb'), (3, 'mar')]\n(1, 'jan')\n(2, 'feb')\n(3, 'mar')\n"
    }
   ],
   "source": [
    "month_name = ['jan', 'feb', 'mar']\n",
    "month_index = [1, 2, 3]\n",
    "months = zip(month_index, month_name)\n",
    "print(months)\n",
    "\n",
    "months = list(months)\n",
    "\n",
    "print(months)\n",
    "\n",
    "for i in months:\n",
    "    print(i)"
   ]
  },
  {
   "cell_type": "markdown",
   "metadata": {},
   "source": [
    "## Importing with an '*'\n",
    "\n",
    "> **Note**: Importing with an '*' is a bad practice unless you know what you are doing.\n",
    "\n",
    "**Cons**:\n",
    "1. makes the code hard to debug (because, it won't be obvious from what module the function/var is comming from).\n",
    "\n",
    "2. will introduce errors to the code whenever there's 2 functions with the same name (see example 5.1 below).\n",
    "\n",
    "> **Tip**: it's better to use `from module import function, variable`\n"
   ]
  },
  {
   "cell_type": "code",
   "execution_count": 1,
   "metadata": {
    "tags": []
   },
   "outputs": [
    {
     "output_type": "stream",
     "name": "stdout",
     "text": "Help on function escape in module glob:\n\nescape(pathname)\n    Escape all special characters.\n\nNone\n"
    }
   ],
   "source": [
    "# example 5.1\n",
    "from html import *\n",
    "from glob import *\n",
    "\n",
    "print(help(escape)) # the glob module will override the html module"
   ]
  },
  {
   "cell_type": "code",
   "execution_count": 3,
   "metadata": {},
   "outputs": [
    {
     "output_type": "execute_result",
     "data": {
      "text/plain": "'&lt;h1&gt;hi&lt;/h1&gt;'"
     },
     "metadata": {},
     "execution_count": 3
    }
   ],
   "source": [
    "import html\n",
    "html.escape('<h1>hi</h1>')"
   ]
  },
  {
   "cell_type": "code",
   "execution_count": 10,
   "metadata": {},
   "outputs": [
    {
     "output_type": "execute_result",
     "data": {
      "text/plain": "'c:/users/ramoun'"
     },
     "metadata": {},
     "execution_count": 10
    }
   ],
   "source": [
    "import glob\n",
    "glob.escape('c:/users/ramoun')"
   ]
  },
  {
   "cell_type": "code",
   "execution_count": 11,
   "metadata": {},
   "outputs": [],
   "source": [
    "# solution\n",
    "from html import escape as h_escape\n",
    "from glob import escape as g_escape"
   ]
  },
  {
   "cell_type": "code",
   "execution_count": 12,
   "metadata": {
    "tags": []
   },
   "outputs": [
    {
     "output_type": "stream",
     "name": "stdout",
     "text": "<function escape at 0x7f2c7f131c10>\n<function escape at 0x7f2c7fc310d0>\n"
    }
   ],
   "source": [
    "# the best way (and the recommended way) to do it is simply\n",
    "import html\n",
    "import glob\n",
    "\n",
    "print(html.escape)\n",
    "print(glob.escape)"
   ]
  },
  {
   "cell_type": "markdown",
   "metadata": {},
   "source": [
    "> **Note**: if you import sys and os, both have a 'path' member, these two might be found a little more often than glob and html"
   ]
  }
 ]
}