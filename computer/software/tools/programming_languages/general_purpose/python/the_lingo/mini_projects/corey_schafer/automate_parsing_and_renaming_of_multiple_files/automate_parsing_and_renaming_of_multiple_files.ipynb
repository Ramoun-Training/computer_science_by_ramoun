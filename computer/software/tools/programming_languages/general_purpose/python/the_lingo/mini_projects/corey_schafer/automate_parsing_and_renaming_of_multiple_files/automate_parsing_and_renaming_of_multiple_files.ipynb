{
 "metadata": {
  "language_info": {
   "codemirror_mode": {
    "name": "ipython",
    "version": 3
   },
   "file_extension": ".py",
   "mimetype": "text/x-python",
   "name": "python",
   "nbconvert_exporter": "python",
   "pygments_lexer": "ipython3",
   "version": "3.8.5-final"
  },
  "orig_nbformat": 2,
  "kernelspec": {
   "name": "python_defaultSpec_1597496565656",
   "display_name": "Python 3.8.5 64-bit"
  }
 },
 "nbformat": 4,
 "nbformat_minor": 2,
 "cells": [
  {
   "cell_type": "code",
   "execution_count": 1,
   "metadata": {
    "tags": []
   },
   "outputs": [
    {
     "output_type": "stream",
     "name": "stdout",
     "text": "file 1 created successfully.\nfile 2 created successfully.\nfile 3 created successfully.\nfile 4 created successfully.\nfile 5 created successfully.\nfile 6 created successfully.\nfile 7 created successfully.\nfile 8 created successfully.\nfile 9 created successfully.\nfile 10 created successfully.\nthe path of the directory containing theses files:\n/home/ramoun/Google Drive/bars/side bar/Microverse - Web - Job/microverse_goal/training/computer_science_training/computer/software/tools/programming_languages/general_purpose/python/the_lingo/mini_projects/corey_schafer/automate_parsing_and_renaming_of_multiple_files/python tuts proj\nthe new working dir:  /home/ramoun/Google Drive/bars/side bar/Microverse - Web - Job/microverse_goal/training/computer_science_training/computer/software/tools/programming_languages/general_purpose/python/the_lingo/mini_projects/corey_schafer/automate_parsing_and_renaming_of_multiple_files\n"
    }
   ],
   "source": [
    "import os\n",
    "\n",
    "'''\n",
    "1. creating the name pattern for multiple files\n",
    "2. creating files with those name patterns\n",
    "3. printing a success msg whenever a file is created\n",
    "4. printing the path of the folder when done of the script\n",
    "'''\n",
    "\n",
    "# suggested name pattern: python tutorial - {#} - nameing vars - pt.{#}\n",
    "\n",
    "folder_name = \"python tuts proj\"\n",
    "\n",
    "if not os.path.exists(folder_name):\n",
    "    os.mkdir(folder_name)\n",
    "    os.chdir(folder_name)\n",
    "\n",
    "for i in range(1, 11):\n",
    "    with open(f'python tutorial - {i} - naming vars - pt.{i}.txt', 'w') as file:\n",
    "        file.write('some stuff')\n",
    "        print(f'file {i} created successfully.')\n",
    "\n",
    "print('the path of the directory containing theses files:')        \n",
    "print(os.getcwd())\n",
    "\n",
    "#os.chdir(os.path.split(os.getcwd())[0])\n",
    "os.chdir(os.path.dirname(os.getcwd()))\n",
    "print(\"the new working dir: \", os.getcwd())"
   ]
  },
  {
   "cell_type": "code",
   "execution_count": 12,
   "metadata": {
    "tags": []
   },
   "outputs": [
    {
     "output_type": "stream",
     "name": "stdout",
     "text": "0.03249572000095213\n"
    }
   ],
   "source": [
    "my_setup = 'import os'\n",
    "import timeit\n",
    "my_code= '''\n",
    "f_name_and_ext = os.path.splitext('hello.txt')\n",
    "f_name = f_name_and_ext[0]\n",
    "ext = f_name_and_ext[1]\n",
    "'''\n",
    "print(timeit.timeit(stmt=my_code, setup=my_setup, number=10000))"
   ]
  },
  {
   "cell_type": "code",
   "execution_count": 13,
   "metadata": {
    "tags": []
   },
   "outputs": [
    {
     "output_type": "stream",
     "name": "stdout",
     "text": "0.08655028599969228\n"
    }
   ],
   "source": [
    "my_setup = 'import os'\n",
    "import timeit\n",
    "my_code ='''\n",
    "f_name = os.path.splitext('hello.txt')[0]\n",
    "ext = os.path.splitext('hello.txt')[1]\n",
    "'''\n",
    "print(timeit.timeit(stmt=my_code, setup=my_setup, number=10000))\n",
    "# obviously this takes more time"
   ]
  },
  {
   "cell_type": "code",
   "execution_count": 21,
   "metadata": {
    "tags": []
   },
   "outputs": [
    {
     "output_type": "stream",
     "name": "stdout",
     "text": "final average:  0.24864596376006376\n"
    }
   ],
   "source": [
    "import timeit\n",
    "my_code ='''\n",
    "l = [1,2,3,4,5]\n",
    "temp = l[2]\n",
    "l[2] = l[0]\n",
    "l[0] = temp\n",
    "'''\n",
    "sum = 0\n",
    "for i in range(100):\n",
    "    t = timeit.timeit(stmt=my_code, number=1000000)\n",
    "    sum += t\n",
    "print('final average: ', sum/100)    "
   ]
  },
  {
   "cell_type": "code",
   "execution_count": 22,
   "metadata": {
    "tags": []
   },
   "outputs": [
    {
     "output_type": "stream",
     "name": "stdout",
     "text": "final average:  0.3509611629799656\n"
    }
   ],
   "source": [
    "import timeit\n",
    "my_code ='''\n",
    "l = [1,2,3,4,5]\n",
    "three = l.pop(2)\n",
    "l.insert(0, three)\n",
    "'''\n",
    "sum = 0\n",
    "for i in range(100):\n",
    "    t = timeit.timeit(stmt=my_code, number=1000000)\n",
    "    sum += t\n",
    "print('final average: ', sum/100)    \n"
   ]
  },
  {
   "cell_type": "code",
   "execution_count": null,
   "metadata": {},
   "outputs": [],
   "source": []
  }
 ]
}