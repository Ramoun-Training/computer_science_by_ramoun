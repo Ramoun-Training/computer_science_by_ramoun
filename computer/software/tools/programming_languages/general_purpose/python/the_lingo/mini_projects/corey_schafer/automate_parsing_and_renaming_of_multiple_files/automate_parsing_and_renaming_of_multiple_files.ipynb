{
 "metadata": {
  "language_info": {
   "codemirror_mode": {
    "name": "ipython",
    "version": 3
   },
   "file_extension": ".py",
   "mimetype": "text/x-python",
   "name": "python",
   "nbconvert_exporter": "python",
   "pygments_lexer": "ipython3",
   "version": "3.8.5-final"
  },
  "orig_nbformat": 2,
  "kernelspec": {
   "name": "python_defaultSpec_1597506828979",
   "display_name": "Python 3.8.5 64-bit"
  }
 },
 "nbformat": 4,
 "nbformat_minor": 2,
 "cells": [
  {
   "cell_type": "code",
   "execution_count": 1,
   "metadata": {
    "tags": []
   },
   "outputs": [
    {
     "output_type": "stream",
     "name": "stdout",
     "text": "file 1 created successfully.\nfile 2 created successfully.\nfile 3 created successfully.\nfile 4 created successfully.\nfile 5 created successfully.\nfile 6 created successfully.\nfile 7 created successfully.\nfile 8 created successfully.\nfile 9 created successfully.\nfile 10 created successfully.\nthe path of the directory containing theses files:\n/home/ramoun/Google Drive/bars/side bar/Microverse - Web - Job/microverse_goal/training/computer_science_training/computer/software/tools/programming_languages/general_purpose/python/the_lingo/mini_projects/corey_schafer/automate_parsing_and_renaming_of_multiple_files/python tuts proj\nthe new working dir:  /home/ramoun/Google Drive/bars/side bar/Microverse - Web - Job/microverse_goal/training/computer_science_training/computer/software/tools/programming_languages/general_purpose/python/the_lingo/mini_projects/corey_schafer/automate_parsing_and_renaming_of_multiple_files\n"
    }
   ],
   "source": [
    "import os\n",
    "\n",
    "'''\n",
    "1. creating the name pattern for multiple files\n",
    "2. creating files with those name patterns\n",
    "3. printing a success msg whenever a file is created\n",
    "4. printing the path of the folder when done of the script\n",
    "'''\n",
    "\n",
    "# suggested name pattern: python tutorial - {#} - nameing vars - pt.{#}\n",
    "\n",
    "folder_name = \"python tuts proj\"\n",
    "\n",
    "if not os.path.exists(folder_name):\n",
    "    os.mkdir(folder_name)\n",
    "    os.chdir(folder_name)\n",
    "\n",
    "for i in range(1, 11):\n",
    "    with open(f'python tutorial - {i} - naming vars - pt.{i}.txt', 'w') as file:\n",
    "        file.write('some stuff')\n",
    "        print(f'file {i} created successfully.')\n",
    "\n",
    "print('the path of the directory containing theses files:')        \n",
    "print(os.getcwd())\n",
    "\n",
    "#os.chdir(os.path.split(os.getcwd())[0])\n",
    "os.chdir(os.path.dirname(os.getcwd()))\n",
    "print(\"the new working dir: \", os.getcwd())"
   ]
  },
  {
   "cell_type": "code",
   "execution_count": 11,
   "metadata": {
    "tags": []
   },
   "outputs": [
    {
     "output_type": "stream",
     "name": "stdout",
     "text": "0.05705433899856871\n"
    }
   ],
   "source": [
    "my_setup = 'import os'\n",
    "import timeit\n",
    "my_code= '''\n",
    "f_name_and_ext = os.path.splitext('hello.txt')\n",
    "f_name = f_name_and_ext[0]\n",
    "ext = f_name_and_ext[1]\n",
    "'''\n",
    "print(timeit.timeit(stmt=my_code, setup=my_setup, number=10000))"
   ]
  },
  {
   "cell_type": "code",
   "execution_count": 13,
   "metadata": {
    "tags": []
   },
   "outputs": [
    {
     "output_type": "stream",
     "name": "stdout",
     "text": "0.08655028599969228\n"
    }
   ],
   "source": [
    "my_setup = 'import os'\n",
    "import timeit\n",
    "my_code ='''\n",
    "f_name = os.path.splitext('hello.txt')[0]\n",
    "ext = os.path.splitext('hello.txt')[1]\n",
    "'''\n",
    "print(timeit.timeit(stmt=my_code, setup=my_setup, number=10000))\n",
    "# obviously this takes more time"
   ]
  },
  {
   "cell_type": "code",
   "execution_count": 21,
   "metadata": {
    "tags": []
   },
   "outputs": [
    {
     "output_type": "stream",
     "name": "stdout",
     "text": "final average:  0.24864596376006376\n"
    }
   ],
   "source": [
    "import timeit\n",
    "my_code ='''\n",
    "l = [1,2,3,4,5]\n",
    "temp = l[2]\n",
    "l[2] = l[0]\n",
    "l[0] = temp\n",
    "'''\n",
    "sum = 0\n",
    "for i in range(100):\n",
    "    t = timeit.timeit(stmt=my_code, number=1000000)\n",
    "    sum += t\n",
    "print('final average: ', sum/100)    "
   ]
  },
  {
   "cell_type": "code",
   "execution_count": 22,
   "metadata": {
    "tags": []
   },
   "outputs": [
    {
     "output_type": "stream",
     "name": "stdout",
     "text": "final average:  0.3509611629799656\n"
    }
   ],
   "source": [
    "import timeit\n",
    "my_code ='''\n",
    "l = [1,2,3,4,5]\n",
    "three = l.pop(2)\n",
    "l.insert(0, three)\n",
    "'''\n",
    "sum = 0\n",
    "for i in range(100):\n",
    "    t = timeit.timeit(stmt=my_code, number=1000000)\n",
    "    sum += t\n",
    "print('final average: ', sum/100)    \n"
   ]
  },
  {
   "cell_type": "code",
   "execution_count": 31,
   "metadata": {
    "tags": []
   },
   "outputs": [
    {
     "output_type": "stream",
     "name": "stdout",
     "text": "final average:  0.4305963511998561\n"
    }
   ],
   "source": [
    "import timeit\n",
    "\n",
    "my_setup = 'import os'\n",
    "my_code = '''\n",
    "def f():\n",
    "    for f in os.listdir():\n",
    "        f_name, f_ext = os.path.splitext(f)\n",
    "    \n",
    "        f_course, f_num, f_title, f_part = f_name.split('-')\n",
    "    \n",
    "        f_course = f_course.strip()\n",
    "        f_num = f_num.strip().zfill(2)\n",
    "        f_title = f_title.strip()\n",
    "        f_part = f_part.strip()\n",
    "    \n",
    "        new_name = f\"{f_num}\" + (\" - {}\"*3).format(f_course, f_title, f_part) + f_ext\n",
    "    \n",
    "        yield new_name\n",
    "f()        \n",
    "'''\n",
    "sum = 0\n",
    "for i in range(100):\n",
    "    t = timeit.timeit(stmt=my_code, number=1000000)\n",
    "    sum += t\n",
    "print('final average: ', sum/100)    \n"
   ]
  },
  {
   "cell_type": "code",
   "execution_count": 32,
   "metadata": {
    "tags": []
   },
   "outputs": [
    {
     "output_type": "stream",
     "name": "stdout",
     "text": "final average:  0.4139035618102207\n"
    }
   ],
   "source": [
    "my_code = '''\n",
    "def rearrange():\n",
    "    \"\"\"a functions that automates parsing and renaming filenames in a system\"\"\"\n",
    "    for file in os.listdir():\n",
    "        # splitting the extension\n",
    "        f_name, f_ext = os.path.splitext(file)\n",
    "\n",
    "        # splitting the file name into parts\n",
    "        f_name_parted = f_name.split('-')\n",
    "\n",
    "        # adding space in front of the course name\n",
    "        f_name_parted[0] = ' ' + f_name_parted[0]\n",
    "\n",
    "        # moving number to the front with zfill and adding spaces\n",
    "        number = f_name_parted[1]\n",
    "        number = number.strip().zfill(2)\n",
    "        number += ' '\n",
    "        f_name_parted[1] = f_name_parted[0]\n",
    "        f_name_parted[0] = number\n",
    "        # x,y = y,x -> is a great way of swaping\n",
    "\n",
    "        # finally joining everything back together\n",
    "        final_no_ext = '-'.join(f_name_parted)\n",
    "        final_with_ext = final_no_ext + f_ext\n",
    "        yield (final_with_ext)\n",
    "rearrange()        \n",
    "'''\n",
    "my_setup = 'import os'        \n",
    "sum = 0\n",
    "for i in range(100):\n",
    "    t = timeit.timeit(stmt=my_code, number=1000000)\n",
    "    sum += t\n",
    "print('final average: ', sum/100)  "
   ]
  },
  {
   "cell_type": "code",
   "execution_count": null,
   "metadata": {},
   "outputs": [],
   "source": []
  }
 ]
}