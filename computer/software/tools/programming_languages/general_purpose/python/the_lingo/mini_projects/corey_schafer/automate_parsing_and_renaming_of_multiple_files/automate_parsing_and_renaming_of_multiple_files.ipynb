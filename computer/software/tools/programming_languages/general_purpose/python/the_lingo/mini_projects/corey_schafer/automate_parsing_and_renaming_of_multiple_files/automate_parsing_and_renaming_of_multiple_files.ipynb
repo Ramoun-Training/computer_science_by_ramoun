{
 "metadata": {
  "language_info": {
   "codemirror_mode": {
    "name": "ipython",
    "version": 3
   },
   "file_extension": ".py",
   "mimetype": "text/x-python",
   "name": "python",
   "nbconvert_exporter": "python",
   "pygments_lexer": "ipython3",
   "version": "3.8.5-final"
  },
  "orig_nbformat": 2,
  "kernelspec": {
   "name": "python_defaultSpec_1597491560187",
   "display_name": "Python 3.8.5 64-bit"
  }
 },
 "nbformat": 4,
 "nbformat_minor": 2,
 "cells": [
  {
   "cell_type": "code",
   "execution_count": 1,
   "metadata": {
    "tags": []
   },
   "outputs": [
    {
     "output_type": "stream",
     "name": "stdout",
     "text": "file 1 created successfully.\nfile 2 created successfully.\nfile 3 created successfully.\nfile 4 created successfully.\nfile 5 created successfully.\nfile 6 created successfully.\nfile 7 created successfully.\nfile 8 created successfully.\nfile 9 created successfully.\nfile 10 created successfully.\nthe path of the directory containing theses files:\n/home/ramoun/Google Drive/bars/side bar/Microverse - Web - Job/microverse_goal/training/computer_science_training/computer/software/tools/programming_languages/general_purpose/python/the_lingo/mini_projects/corey_schafer/automate_parsing_and_renaming_of_multiple_files/python tuts proj\nthe new working dir:  /home/ramoun/Google Drive/bars/side bar/Microverse - Web - Job/microverse_goal/training/computer_science_training/computer/software/tools/programming_languages/general_purpose/python/the_lingo/mini_projects/corey_schafer/automate_parsing_and_renaming_of_multiple_files\n"
    }
   ],
   "source": [
    "import os\n",
    "\n",
    "'''\n",
    "1. creating the name pattern for multiple files\n",
    "2. creating files with those name patterns\n",
    "3. printing a success msg whenever a file is created\n",
    "4. printing the path of the folder when done of the script\n",
    "'''\n",
    "\n",
    "# suggested name pattern: python tutorial - {#} - nameing vars - pt.{#}\n",
    "\n",
    "folder_name = \"python tuts proj\"\n",
    "\n",
    "if not os.path.exists(folder_name):\n",
    "    os.mkdir(folder_name)\n",
    "    os.chdir(folder_name)\n",
    "\n",
    "for i in range(1, 11):\n",
    "    with open(f'python tutorial - {i} - naming vars - pt.{i}.txt', 'w') as file:\n",
    "        file.write('some stuff')\n",
    "        print(f'file {i} created successfully.')\n",
    "\n",
    "print('the path of the directory containing theses files:')        \n",
    "print(os.getcwd())\n",
    "\n",
    "#os.chdir(os.path.split(os.getcwd())[0])\n",
    "os.chdir(os.path.dirname(os.getcwd()))\n",
    "print(\"the new working dir: \", os.getcwd())"
   ]
  }
 ]
}