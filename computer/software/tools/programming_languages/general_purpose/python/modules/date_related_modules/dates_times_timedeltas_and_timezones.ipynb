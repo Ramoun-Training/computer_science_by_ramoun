{
 "metadata": {
  "language_info": {
   "codemirror_mode": {
    "name": "ipython",
    "version": 3
   },
   "file_extension": ".py",
   "mimetype": "text/x-python",
   "name": "python",
   "nbconvert_exporter": "python",
   "pygments_lexer": "ipython3",
   "version": "3.8.5-final"
  },
  "orig_nbformat": 2,
  "kernelspec": {
   "name": "python_defaultSpec_1597946924802",
   "display_name": "Python 3.8.5 64-bit"
  }
 },
 "nbformat": 4,
 "nbformat_minor": 2,
 "cells": [
  {
   "cell_type": "code",
   "execution_count": 2,
   "metadata": {
    "tags": []
   },
   "outputs": [
    {
     "output_type": "stream",
     "name": "stdout",
     "text": "2020-07-24\n"
    }
   ],
   "source": [
    "import datetime\n",
    "date = datetime.date(2020, 7, 24)\n",
    "print(date)"
   ]
  },
  {
   "cell_type": "code",
   "execution_count": 3,
   "metadata": {},
   "outputs": [
    {
     "output_type": "error",
     "ename": "SyntaxError",
     "evalue": "leading zeros in decimal integer literals are not permitted; use an 0o prefix for octal integers (<ipython-input-3-e77fabf747b3>, line 1)",
     "traceback": [
      "\u001b[0;36m  File \u001b[0;32m\"<ipython-input-3-e77fabf747b3>\"\u001b[0;36m, line \u001b[0;32m1\u001b[0m\n\u001b[0;31m    date = datetime.date(2020, 07, 24)\u001b[0m\n\u001b[0m                                ^\u001b[0m\n\u001b[0;31mSyntaxError\u001b[0m\u001b[0;31m:\u001b[0m leading zeros in decimal integer literals are not permitted; use an 0o prefix for octal integers\n"
     ]
    }
   ],
   "source": [
    "date = datetime.date(2020, 07, 24)\n",
    "print(date)"
   ]
  },
  {
   "cell_type": "code",
   "execution_count": 5,
   "metadata": {},
   "outputs": [
    {
     "output_type": "error",
     "ename": "TypeError",
     "evalue": "integer argument expected, got float",
     "traceback": [
      "\u001b[0;31m---------------------------------------------------------------------------\u001b[0m",
      "\u001b[0;31mTypeError\u001b[0m                                 Traceback (most recent call last)",
      "\u001b[0;32m<ipython-input-5-efcc19dab105>\u001b[0m in \u001b[0;36m<module>\u001b[0;34m\u001b[0m\n\u001b[0;32m----> 1\u001b[0;31m \u001b[0mdate\u001b[0m \u001b[0;34m=\u001b[0m \u001b[0mdatetime\u001b[0m\u001b[0;34m.\u001b[0m\u001b[0mdate\u001b[0m\u001b[0;34m(\u001b[0m\u001b[0;36m2020\u001b[0m\u001b[0;34m,\u001b[0m \u001b[0;36m7.0\u001b[0m\u001b[0;34m,\u001b[0m \u001b[0;36m24\u001b[0m\u001b[0;34m)\u001b[0m\u001b[0;34m\u001b[0m\u001b[0;34m\u001b[0m\u001b[0m\n\u001b[0m\u001b[1;32m      2\u001b[0m \u001b[0mprint\u001b[0m\u001b[0;34m(\u001b[0m\u001b[0mdate\u001b[0m\u001b[0;34m)\u001b[0m\u001b[0;34m\u001b[0m\u001b[0;34m\u001b[0m\u001b[0m\n",
      "\u001b[0;31mTypeError\u001b[0m: integer argument expected, got float"
     ]
    }
   ],
   "source": [
    "date = datetime.date(2020, 7.0, 24)\n",
    "print(date)"
   ]
  },
  {
   "cell_type": "code",
   "execution_count": 7,
   "metadata": {
    "tags": []
   },
   "outputs": [
    {
     "output_type": "stream",
     "name": "stdout",
     "text": "2020\n"
    }
   ],
   "source": [
    "today = datetime.date.today()\n",
    "print(today.year)"
   ]
  },
  {
   "cell_type": "code",
   "execution_count": 9,
   "metadata": {
    "tags": []
   },
   "outputs": [
    {
     "output_type": "stream",
     "name": "stdout",
     "text": "2\n3\n"
    }
   ],
   "source": [
    "print(today.weekday())\n",
    "print(today.isoweekday())"
   ]
  },
  {
   "cell_type": "code",
   "execution_count": 12,
   "metadata": {
    "tags": []
   },
   "outputs": [
    {
     "output_type": "stream",
     "name": "stdout",
     "text": "2020-08-26\n2020-08-12\n"
    }
   ],
   "source": [
    "tday = datetime.date.today()\n",
    "tdelta = datetime.timedelta(days=7)\n",
    "\n",
    "print(tday + tdelta) # output: what the date will be 7 days from now\n",
    "print(tday - tdelta)"
   ]
  },
  {
   "cell_type": "code",
   "execution_count": 22,
   "metadata": {
    "tags": []
   },
   "outputs": [
    {
     "output_type": "stream",
     "name": "stdout",
     "text": "8209 days, 0:00:00\n"
    }
   ],
   "source": [
    "my_birth_date = datetime.date(1998, 2, 27)\n",
    "today = datetime.date.today()\n",
    "\n",
    "print((today - my_birth_date)) ## 22 years"
   ]
  },
  {
   "cell_type": "code",
   "execution_count": 15,
   "metadata": {
    "tags": []
   },
   "outputs": [
    {
     "output_type": "stream",
     "name": "stdout",
     "text": "192 days, 0:00:00\n192\n0\n16588800.0\n"
    }
   ],
   "source": [
    "# how many days till birthday\n",
    "next_birthdate = datetime.date(2021, 2, 27)\n",
    "till_bday = next_birthdate - today\n",
    "print(till_bday)\n",
    "print(till_bday.days)\n",
    "print(till_bday.seconds)\n",
    "print(till_bday.total_seconds())"
   ]
  },
  {
   "cell_type": "code",
   "execution_count": 23,
   "metadata": {},
   "outputs": [
    {
     "output_type": "error",
     "ename": "ValueError",
     "evalue": "microsecond must be in 0..999999",
     "traceback": [
      "\u001b[0;31m---------------------------------------------------------------------------\u001b[0m",
      "\u001b[0;31mValueError\u001b[0m                                Traceback (most recent call last)",
      "\u001b[0;32m<ipython-input-23-dffffd7a359a>\u001b[0m in \u001b[0;36m<module>\u001b[0;34m\u001b[0m\n\u001b[0;32m----> 1\u001b[0;31m \u001b[0mtime\u001b[0m \u001b[0;34m=\u001b[0m \u001b[0mdatetime\u001b[0m\u001b[0;34m.\u001b[0m\u001b[0mtime\u001b[0m\u001b[0;34m(\u001b[0m\u001b[0;36m9\u001b[0m\u001b[0;34m,\u001b[0m \u001b[0;36m30\u001b[0m\u001b[0;34m,\u001b[0m \u001b[0;36m27\u001b[0m\u001b[0;34m,\u001b[0m \u001b[0;36m1000000\u001b[0m\u001b[0;34m)\u001b[0m\u001b[0;34m\u001b[0m\u001b[0;34m\u001b[0m\u001b[0m\n\u001b[0m\u001b[1;32m      2\u001b[0m \u001b[0mprint\u001b[0m\u001b[0;34m(\u001b[0m\u001b[0mtime\u001b[0m\u001b[0;34m)\u001b[0m\u001b[0;34m\u001b[0m\u001b[0;34m\u001b[0m\u001b[0m\n",
      "\u001b[0;31mValueError\u001b[0m: microsecond must be in 0..999999"
     ]
    }
   ],
   "source": [
    "time = datetime.time(9, 30, 27, 10000)\n",
    "print(time)"
   ]
  },
  {
   "cell_type": "code",
   "execution_count": 25,
   "metadata": {
    "tags": []
   },
   "outputs": [
    {
     "output_type": "stream",
     "name": "stdout",
     "text": "09:30:23.010000\n"
    }
   ],
   "source": [
    "time = datetime.time(9, 30, 23, 10000) # hours, minutes, seconds, microseconds\n",
    "print(time) # output: "
   ]
  },
  {
   "cell_type": "code",
   "execution_count": 26,
   "metadata": {
    "tags": []
   },
   "outputs": [
    {
     "output_type": "stream",
     "name": "stdout",
     "text": "9\n30\n23\n"
    }
   ],
   "source": [
    "print(time.hour)\n",
    "print(time.minute)\n",
    "print(time.second)"
   ]
  },
  {
   "cell_type": "code",
   "execution_count": 27,
   "metadata": {
    "tags": []
   },
   "outputs": [
    {
     "output_type": "stream",
     "name": "stdout",
     "text": "2020-09-23 13:23:34.001000\n"
    }
   ],
   "source": [
    "dt = datetime.datetime(2020, 9, 23, 13, 23,34, 1000)\n",
    "print(dt)\n"
   ]
  },
  {
   "cell_type": "code",
   "execution_count": 28,
   "metadata": {
    "tags": []
   },
   "outputs": [
    {
     "output_type": "stream",
     "name": "stdout",
     "text": "2020-09-23 21:23:34.001000\n"
    }
   ],
   "source": [
    "print(dt + datetime.timedelta(hours=8))"
   ]
  },
  {
   "cell_type": "code",
   "execution_count": 35,
   "metadata": {
    "tags": []
   },
   "outputs": [
    {
     "output_type": "stream",
     "name": "stdout",
     "text": "2020-08-19 18:51:33.773157\n"
    }
   ],
   "source": [
    "today = datetime.datetime.today()\n",
    "print(today)"
   ]
  },
  {
   "cell_type": "code",
   "execution_count": 38,
   "metadata": {
    "tags": []
   },
   "outputs": [
    {
     "output_type": "stream",
     "name": "stdout",
     "text": "2021-08-20 00:51:33.773157\n"
    }
   ],
   "source": [
    "print(today + datetime.timedelta(days=365.25))"
   ]
  },
  {
   "cell_type": "code",
   "execution_count": 39,
   "metadata": {
    "tags": []
   },
   "outputs": [
    {
     "output_type": "stream",
     "name": "stdout",
     "text": "2020-08-19 18:53:36.353728\n"
    }
   ],
   "source": [
    "print(datetime.datetime.now())"
   ]
  },
  {
   "cell_type": "code",
   "execution_count": 40,
   "metadata": {
    "tags": []
   },
   "outputs": [
    {
     "output_type": "stream",
     "name": "stdout",
     "text": "2020-08-19 22:54:00.914077\n"
    }
   ],
   "source": [
    "print(datetime.datetime.utcnow())"
   ]
  },
  {
   "cell_type": "code",
   "execution_count": 42,
   "metadata": {
    "tags": []
   },
   "outputs": [
    {
     "output_type": "stream",
     "name": "stdout",
     "text": "2020-12-02 12:12:12+00:00\n"
    }
   ],
   "source": [
    "import pytz\n",
    "dtime = datetime.datetime(2020, 12, 2, 12, 12, 12, tzinfo=pytz.UTC) # the microseconds are left to default\n",
    "print(dtime)\n"
   ]
  },
  {
   "cell_type": "code",
   "execution_count": 44,
   "metadata": {
    "tags": []
   },
   "outputs": [
    {
     "output_type": "stream",
     "name": "stdout",
     "text": "2020-08-19 23:21:23.847198+00:00\n2020-08-19 23:21:23.847297+00:00\n"
    }
   ],
   "source": [
    "dt_now = datetime.datetime.now(tz=pytz.UTC) # easier, less typing, easier to read\n",
    "dt_utcnow = datetime.datetime.utcnow().replace(tzinfo=pytz.UTC)\n",
    "print(dt_now)\n",
    "print(dt_utcnow)"
   ]
  },
  {
   "cell_type": "code",
   "execution_count": 2,
   "metadata": {
    "tags": []
   },
   "outputs": [
    {
     "output_type": "stream",
     "name": "stdout",
     "text": "2020-12-02 12:12:12+00:00\n"
    }
   ],
   "source": [
    "import pytz\n",
    "import datetime\n",
    "dtime = datetime.datetime(2020, 12, 2, 12, 12, 12, tzinfo=pytz.UTC) # the microseconds are left to default\n",
    "print(dtime)\n"
   ]
  },
  {
   "cell_type": "code",
   "execution_count": 4,
   "metadata": {
    "tags": []
   },
   "outputs": [
    {
     "output_type": "stream",
     "name": "stdout",
     "text": "2020-08-20 18:10:22.561257+00:00\n2020-08-20 18:10:22.561351+00:00\n"
    }
   ],
   "source": [
    "dt_now = datetime.datetime.now(tz=pytz.UTC) # easier, less typing, easier to read (RECOMM|ENDED)\n",
    "dt_utcnow = datetime.datetime.utcnow().replace(tzinfo=pytz.UTC)\n",
    "print(dt_now)\n",
    "print(dt_utcnow)"
   ]
  },
  {
   "cell_type": "code",
   "execution_count": 21,
   "metadata": {
    "tags": []
   },
   "outputs": [
    {
     "output_type": "stream",
     "name": "stdout",
     "text": "2020-08-20 20:10:22.561351+02:00\n"
    }
   ],
   "source": [
    "dt_cairo = dt_utcnow.astimezone(pytz.timezone('Africa/Cairo'))\n",
    "print(dt_cairo)"
   ]
  },
  {
   "cell_type": "code",
   "execution_count": 20,
   "metadata": {
    "tags": []
   },
   "outputs": [
    {
     "output_type": "stream",
     "name": "stdout",
     "text": "Africa/Cairo\n"
    }
   ],
   "source": [
    "for tz in pytz.all_timezones:\n",
    "    if 'Cairo' in tz:\n",
    "        print(tz)\n"
   ]
  },
  {
   "cell_type": "code",
   "execution_count": 23,
   "metadata": {
    "tags": []
   },
   "outputs": [
    {
     "output_type": "stream",
     "name": "stdout",
     "text": "2020-07-26 00:00:00\n"
    }
   ],
   "source": [
    "dt_str = 'July 26, 2020'\n",
    "dt = datetime.datetime.strptime(dt_str, '%B %d, %Y')\n",
    "print(dt)"
   ]
  }
 ]
}