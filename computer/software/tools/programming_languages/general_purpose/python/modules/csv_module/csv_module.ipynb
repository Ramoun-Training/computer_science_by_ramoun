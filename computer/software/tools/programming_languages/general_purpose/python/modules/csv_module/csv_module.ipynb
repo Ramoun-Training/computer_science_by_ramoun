{
 "metadata": {
  "language_info": {
   "codemirror_mode": {
    "name": "ipython",
    "version": 3
   },
   "file_extension": ".py",
   "mimetype": "text/x-python",
   "name": "python",
   "nbconvert_exporter": "python",
   "pygments_lexer": "ipython3",
   "version": "3.8.5-final"
  },
  "orig_nbformat": 2,
  "kernelspec": {
   "name": "python_defaultSpec_1597522355409",
   "display_name": "Python 3.8.5 64-bit"
  }
 },
 "nbformat": 4,
 "nbformat_minor": 2,
 "cells": [
  {
   "cell_type": "code",
   "execution_count": 4,
   "metadata": {
    "tags": []
   },
   "outputs": [
    {
     "output_type": "stream",
     "name": "stdout",
     "text": "<_csv.reader object at 0x7f7b1a409820>\n<_io.TextIOWrapper name='names.csv' mode='r' encoding='UTF-8'>\n"
    },
    {
     "output_type": "execute_result",
     "data": {
      "text/plain": "['__class__',\n '__delattr__',\n '__dir__',\n '__doc__',\n '__eq__',\n '__format__',\n '__ge__',\n '__getattribute__',\n '__gt__',\n '__hash__',\n '__init__',\n '__init_subclass__',\n '__iter__',\n '__le__',\n '__lt__',\n '__ne__',\n '__new__',\n '__next__',\n '__reduce__',\n '__reduce_ex__',\n '__repr__',\n '__setattr__',\n '__sizeof__',\n '__str__',\n '__subclasshook__',\n 'dialect',\n 'line_num']"
     },
     "metadata": {},
     "execution_count": 4
    }
   ],
   "source": [
    "import csv\n",
    "\n",
    "with open('names.csv', 'r') as csv_file:\n",
    "    csv_reader = csv.reader(csv_file)\n",
    "    print(csv_reader) # csv.reader object\n",
    "\n",
    "print(csv_file)\n",
    "dir(csv_file) # iterator/iterable (file object)\n",
    "\n",
    "dir(csv_reader) # iterator/iterable"
   ]
  },
  {
   "cell_type": "code",
   "execution_count": 5,
   "metadata": {
    "tags": []
   },
   "outputs": [
    {
     "output_type": "stream",
     "name": "stdout",
     "text": "['first_name', 'last_name', 'email']\n['John', 'Doe', 'john-doe@bogusemail.com']\n['Mary', 'Smith-Robinson', 'maryjacobs@bogusemail.com']\n['Dave', 'Smith', 'davesmith@bogusemail.com']\n['Jane', 'Stuart', 'janestuart@bogusemail.com']\n['Tom', 'Wright', 'tomwright@bogusemail.com']\n['Steve', 'Robinson', 'steverobinson@bogusemail.com']\n['Nicole', 'Jacobs', 'nicolejacobs@bogusemail.com']\n['Jane', 'Wright', 'janewright@bogusemail.com']\n['Jane', 'Doe', 'janedoe@bogusemail.com']\n['Kurt', 'Wright', 'kurtwright@bogusemail.com']\n['Kurt', 'Robinson', 'kurtrobinson@bogusemail.com']\n['Jane', 'Jenkins', 'janejenkins@bogusemail.com']\n['Neil', 'Robinson', 'neilrobinson@bogusemail.com']\n['Tom', 'Patterson', 'tompatterson@bogusemail.com']\n['Sam', 'Jenkins', 'samjenkins@bogusemail.com']\n['Steve', 'Stuart', 'stevestuart@bogusemail.com']\n['Maggie', 'Patterson', 'maggiepatterson@bogusemail.com']\n['Maggie', 'Stuart', 'maggiestuart@bogusemail.com']\n['Jane', 'Doe', 'janedoe@bogusemail.com']\n['Steve', 'Patterson', 'stevepatterson@bogusemail.com']\n['Dave', 'Smith', 'davesmith@bogusemail.com']\n['Sam', 'Wilks', 'samwilks@bogusemail.com']\n['Kurt', 'Jefferson', 'kurtjefferson@bogusemail.com']\n['Sam', 'Stuart', 'samstuart@bogusemail.com']\n['Jane', 'Stuart', 'janestuart@bogusemail.com']\n['Dave', 'Davis', 'davedavis@bogusemail.com']\n['Sam', 'Patterson', 'sampatterson@bogusemail.com']\n['Tom', 'Jefferson', 'tomjefferson@bogusemail.com']\n['Jane', 'Stuart', 'janestuart@bogusemail.com']\n['Maggie', 'Jefferson', 'maggiejefferson@bogusemail.com']\n['Mary', 'Wilks', 'marywilks@bogusemail.com']\n['Neil', 'Patterson', 'neilpatterson@bogusemail.com']\n['Corey', 'Davis', 'coreydavis@bogusemail.com']\n['Steve', 'Jacobs', 'stevejacobs@bogusemail.com']\n['Jane', 'Jenkins', 'janejenkins@bogusemail.com']\n['John', 'Jacobs', 'johnjacobs@bogusemail.com']\n['Neil', 'Smith', 'neilsmith@bogusemail.com']\n['Corey', 'Wilks', 'coreywilks@bogusemail.com']\n['Corey', 'Smith', 'coreysmith@bogusemail.com']\n['Mary', 'Patterson', 'marypatterson@bogusemail.com']\n['Jane', 'Stuart', 'janestuart@bogusemail.com']\n['Travis', 'Arnold', 'travisarnold@bogusemail.com']\n['John', 'Robinson', 'johnrobinson@bogusemail.com']\n['Travis', 'Arnold', 'travisarnold@bogusemail.com']\n"
    }
   ],
   "source": [
    "import csv\n",
    "\n",
    "with open('names.csv', 'r') as csv_file:\n",
    "    csv_reader = csv.reader(csv_file)\n",
    "\n",
    "    for line in csv_reader:\n",
    "        print(line)"
   ]
  },
  {
   "cell_type": "code",
   "execution_count": 7,
   "metadata": {},
   "outputs": [],
   "source": [
    "import csv\n",
    "with open('names.csv', 'r') as csv_file:\n",
    "    csv_reader = csv.reader(csv_file) \n",
    "\n",
    "    with open('new_names.csv', 'w') as csv_new_file:\n",
    "        csv_writer = csv.writer(csv_new_file, delimiter='-')    \n",
    "    \n",
    "        for line in csv_reader:\n",
    "            csv_writer.writerow(line)\n"
   ]
  },
  {
   "cell_type": "code",
   "execution_count": 8,
   "metadata": {
    "tags": []
   },
   "outputs": [
    {
     "output_type": "stream",
     "name": "stdout",
     "text": "['first_name-last_name-email']\n['John-Doe-\"john-doe@bogusemail.com\"']\n['Mary-\"Smith-Robinson\"-maryjacobs@bogusemail.com']\n['Dave-Smith-davesmith@bogusemail.com']\n['Jane-Stuart-janestuart@bogusemail.com']\n['Tom-Wright-tomwright@bogusemail.com']\n['Steve-Robinson-steverobinson@bogusemail.com']\n['Nicole-Jacobs-nicolejacobs@bogusemail.com']\n['Jane-Wright-janewright@bogusemail.com']\n['Jane-Doe-janedoe@bogusemail.com']\n['Kurt-Wright-kurtwright@bogusemail.com']\n['Kurt-Robinson-kurtrobinson@bogusemail.com']\n['Jane-Jenkins-janejenkins@bogusemail.com']\n['Neil-Robinson-neilrobinson@bogusemail.com']\n['Tom-Patterson-tompatterson@bogusemail.com']\n['Sam-Jenkins-samjenkins@bogusemail.com']\n['Steve-Stuart-stevestuart@bogusemail.com']\n['Maggie-Patterson-maggiepatterson@bogusemail.com']\n['Maggie-Stuart-maggiestuart@bogusemail.com']\n['Jane-Doe-janedoe@bogusemail.com']\n['Steve-Patterson-stevepatterson@bogusemail.com']\n['Dave-Smith-davesmith@bogusemail.com']\n['Sam-Wilks-samwilks@bogusemail.com']\n['Kurt-Jefferson-kurtjefferson@bogusemail.com']\n['Sam-Stuart-samstuart@bogusemail.com']\n['Jane-Stuart-janestuart@bogusemail.com']\n['Dave-Davis-davedavis@bogusemail.com']\n['Sam-Patterson-sampatterson@bogusemail.com']\n['Tom-Jefferson-tomjefferson@bogusemail.com']\n['Jane-Stuart-janestuart@bogusemail.com']\n['Maggie-Jefferson-maggiejefferson@bogusemail.com']\n['Mary-Wilks-marywilks@bogusemail.com']\n['Neil-Patterson-neilpatterson@bogusemail.com']\n['Corey-Davis-coreydavis@bogusemail.com']\n['Steve-Jacobs-stevejacobs@bogusemail.com']\n['Jane-Jenkins-janejenkins@bogusemail.com']\n['John-Jacobs-johnjacobs@bogusemail.com']\n['Neil-Smith-neilsmith@bogusemail.com']\n['Corey-Wilks-coreywilks@bogusemail.com']\n['Corey-Smith-coreysmith@bogusemail.com']\n['Mary-Patterson-marypatterson@bogusemail.com']\n['Jane-Stuart-janestuart@bogusemail.com']\n['Travis-Arnold-travisarnold@bogusemail.com']\n['John-Robinson-johnrobinson@bogusemail.com']\n['Travis-Arnold-travisarnold@bogusemail.com']\n"
    }
   ],
   "source": [
    "import csv\n",
    "with open('new_names.csv', 'r') as new_csv_file:\n",
    "    csv_reader = csv.reader(new_csv_file) \n",
    "    \n",
    "    for line in csv_reader:\n",
    "        print(line)\n",
    "# it didn't split the values on the dash because it was expecting commas."
   ]
  },
  {
   "cell_type": "code",
   "execution_count": 10,
   "metadata": {
    "tags": []
   },
   "outputs": [
    {
     "output_type": "stream",
     "name": "stdout",
     "text": "{'first_name': 'John', 'last_name': 'Doe', 'email': 'john-doe@bogusemail.com'}\n{'first_name': 'Mary', 'last_name': 'Smith-Robinson', 'email': 'maryjacobs@bogusemail.com'}\n{'first_name': 'Dave', 'last_name': 'Smith', 'email': 'davesmith@bogusemail.com'}\n{'first_name': 'Jane', 'last_name': 'Stuart', 'email': 'janestuart@bogusemail.com'}\n{'first_name': 'Tom', 'last_name': 'Wright', 'email': 'tomwright@bogusemail.com'}\n{'first_name': 'Steve', 'last_name': 'Robinson', 'email': 'steverobinson@bogusemail.com'}\n{'first_name': 'Nicole', 'last_name': 'Jacobs', 'email': 'nicolejacobs@bogusemail.com'}\n{'first_name': 'Jane', 'last_name': 'Wright', 'email': 'janewright@bogusemail.com'}\n{'first_name': 'Jane', 'last_name': 'Doe', 'email': 'janedoe@bogusemail.com'}\n{'first_name': 'Kurt', 'last_name': 'Wright', 'email': 'kurtwright@bogusemail.com'}\n{'first_name': 'Kurt', 'last_name': 'Robinson', 'email': 'kurtrobinson@bogusemail.com'}\n{'first_name': 'Jane', 'last_name': 'Jenkins', 'email': 'janejenkins@bogusemail.com'}\n{'first_name': 'Neil', 'last_name': 'Robinson', 'email': 'neilrobinson@bogusemail.com'}\n{'first_name': 'Tom', 'last_name': 'Patterson', 'email': 'tompatterson@bogusemail.com'}\n{'first_name': 'Sam', 'last_name': 'Jenkins', 'email': 'samjenkins@bogusemail.com'}\n{'first_name': 'Steve', 'last_name': 'Stuart', 'email': 'stevestuart@bogusemail.com'}\n{'first_name': 'Maggie', 'last_name': 'Patterson', 'email': 'maggiepatterson@bogusemail.com'}\n{'first_name': 'Maggie', 'last_name': 'Stuart', 'email': 'maggiestuart@bogusemail.com'}\n{'first_name': 'Jane', 'last_name': 'Doe', 'email': 'janedoe@bogusemail.com'}\n{'first_name': 'Steve', 'last_name': 'Patterson', 'email': 'stevepatterson@bogusemail.com'}\n{'first_name': 'Dave', 'last_name': 'Smith', 'email': 'davesmith@bogusemail.com'}\n{'first_name': 'Sam', 'last_name': 'Wilks', 'email': 'samwilks@bogusemail.com'}\n{'first_name': 'Kurt', 'last_name': 'Jefferson', 'email': 'kurtjefferson@bogusemail.com'}\n{'first_name': 'Sam', 'last_name': 'Stuart', 'email': 'samstuart@bogusemail.com'}\n{'first_name': 'Jane', 'last_name': 'Stuart', 'email': 'janestuart@bogusemail.com'}\n{'first_name': 'Dave', 'last_name': 'Davis', 'email': 'davedavis@bogusemail.com'}\n{'first_name': 'Sam', 'last_name': 'Patterson', 'email': 'sampatterson@bogusemail.com'}\n{'first_name': 'Tom', 'last_name': 'Jefferson', 'email': 'tomjefferson@bogusemail.com'}\n{'first_name': 'Jane', 'last_name': 'Stuart', 'email': 'janestuart@bogusemail.com'}\n{'first_name': 'Maggie', 'last_name': 'Jefferson', 'email': 'maggiejefferson@bogusemail.com'}\n{'first_name': 'Mary', 'last_name': 'Wilks', 'email': 'marywilks@bogusemail.com'}\n{'first_name': 'Neil', 'last_name': 'Patterson', 'email': 'neilpatterson@bogusemail.com'}\n{'first_name': 'Corey', 'last_name': 'Davis', 'email': 'coreydavis@bogusemail.com'}\n{'first_name': 'Steve', 'last_name': 'Jacobs', 'email': 'stevejacobs@bogusemail.com'}\n{'first_name': 'Jane', 'last_name': 'Jenkins', 'email': 'janejenkins@bogusemail.com'}\n{'first_name': 'John', 'last_name': 'Jacobs', 'email': 'johnjacobs@bogusemail.com'}\n{'first_name': 'Neil', 'last_name': 'Smith', 'email': 'neilsmith@bogusemail.com'}\n{'first_name': 'Corey', 'last_name': 'Wilks', 'email': 'coreywilks@bogusemail.com'}\n{'first_name': 'Corey', 'last_name': 'Smith', 'email': 'coreysmith@bogusemail.com'}\n{'first_name': 'Mary', 'last_name': 'Patterson', 'email': 'marypatterson@bogusemail.com'}\n{'first_name': 'Jane', 'last_name': 'Stuart', 'email': 'janestuart@bogusemail.com'}\n{'first_name': 'Travis', 'last_name': 'Arnold', 'email': 'travisarnold@bogusemail.com'}\n{'first_name': 'John', 'last_name': 'Robinson', 'email': 'johnrobinson@bogusemail.com'}\n{'first_name': 'Travis', 'last_name': 'Arnold', 'email': 'travisarnold@bogusemail.com'}\n"
    }
   ],
   "source": [
    "import csv\n",
    "\n",
    "with open('new_names.csv') as csv_file:\n",
    "    dict_reader = csv.DictReader(csv_file, delimiter='-')\n",
    "\n",
    "    for row in dict_reader:\n",
    "        print(row)"
   ]
  },
  {
   "cell_type": "code",
   "execution_count": 11,
   "metadata": {},
   "outputs": [],
   "source": [
    "import csv\n",
    "\n",
    "with open('names.csv') as csv_file:\n",
    "    dict_reader = csv.DictReader(csv_file)\n",
    "\n",
    "    with open('final_names_copy.csv', 'w') as csv_file_final:\n",
    "    \n",
    "        field_names = ['first_name', 'last_name', 'email']\n",
    "        \n",
    "        dict_writer = csv.DictWriter(csv_file_final, fieldnames=field_names)\n",
    "\n",
    "        # if you want to write the headers\n",
    "        dict_writer.writeheader()\n",
    "\n",
    "        for row in dict_reader:\n",
    "            dict_writer.writerow(row)\n"
   ]
  },
  {
   "cell_type": "code",
   "execution_count": 16,
   "metadata": {},
   "outputs": [],
   "source": [
    "import csv\n",
    "\n",
    "with open('names.csv') as csv_file:\n",
    "    dict_reader = csv.DictReader(csv_file)\n",
    "\n",
    "    with open('final_names_copy.csv', 'w') as csv_file_final:\n",
    "    \n",
    "        field_names = ['first_name', 'last_name']\n",
    "        \n",
    "        dict_writer = csv.DictWriter(csv_file_final, fieldnames=field_names, delimiter=\"\\t\") # fieldnames are mandatory\n",
    "\n",
    "        # if you want to write the headers\n",
    "        dict_writer.writeheader()\n",
    "\n",
    "        for row in dict_reader:\n",
    "            del row['email']\n",
    "            dict_writer.writerow(row)\n"
   ]
  },
  {
   "cell_type": "code",
   "execution_count": 22,
   "metadata": {},
   "outputs": [],
   "source": [
    "import csv\n",
    "\n",
    "with open('names.csv') as csv_file:\n",
    "    dict_reader = csv.DictReader(csv_file)\n",
    "\n",
    "    with open('final_names_copy2.csv', 'w') as csv_file_final:\n",
    "    \n",
    "        field_names = ['f_name', 'l_name']\n",
    "        \n",
    "        dict_writer = csv.DictWriter(csv_file_final, fieldnames=field_names, delimiter=\"\\t\") # fieldnames are mandatory\n",
    "\n",
    "        # if you want to write the headers\n",
    "        dict_writer.writeheader()\n",
    "\n",
    "        for row in dict_reader:\n",
    "            new_row = row['first_name'], row['last_name']\n",
    "            new_dict = dict(f_name= new_row[0], l_name= new_row[1])\n",
    "            # or in just one line of code\n",
    "            # new_dict = dict(f_name=row['first_name'], l_name=row['last_name'])\n",
    "            dict_writer.writerow(new_dict)\n"
   ]
  }
 ]
}