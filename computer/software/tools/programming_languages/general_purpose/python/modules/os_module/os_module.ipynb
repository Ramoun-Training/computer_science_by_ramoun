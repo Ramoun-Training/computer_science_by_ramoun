{
 "metadata": {
  "language_info": {
   "codemirror_mode": {
    "name": "ipython",
    "version": 3
   },
   "file_extension": ".py",
   "mimetype": "text/x-python",
   "name": "python",
   "nbconvert_exporter": "python",
   "pygments_lexer": "ipython3",
   "version": "3.8.5-final"
  },
  "orig_nbformat": 2,
  "kernelspec": {
   "name": "python_defaultSpec_1597398889833",
   "display_name": "Python 3.8.5 64-bit"
  }
 },
 "nbformat": 4,
 "nbformat_minor": 2,
 "cells": [
  {
   "cell_type": "code",
   "execution_count": 2,
   "metadata": {
    "tags": []
   },
   "outputs": [
    {
     "output_type": "execute_result",
     "data": {
      "text/plain": "['CLD_CONTINUED',\n 'CLD_DUMPED',\n 'CLD_EXITED',\n 'CLD_TRAPPED',\n 'DirEntry',\n 'EX_CANTCREAT',\n 'EX_CONFIG',\n 'EX_DATAERR',\n 'EX_IOERR',\n 'EX_NOHOST',\n 'EX_NOINPUT',\n 'EX_NOPERM',\n 'EX_NOUSER',\n 'EX_OK',\n 'EX_OSERR',\n 'EX_OSFILE',\n 'EX_PROTOCOL',\n 'EX_SOFTWARE',\n 'EX_TEMPFAIL',\n 'EX_UNAVAILABLE',\n 'EX_USAGE',\n 'F_LOCK',\n 'F_OK',\n 'F_TEST',\n 'F_TLOCK',\n 'F_ULOCK',\n 'GRND_NONBLOCK',\n 'GRND_RANDOM',\n 'MFD_ALLOW_SEALING',\n 'MFD_CLOEXEC',\n 'MFD_HUGETLB',\n 'MFD_HUGE_16GB',\n 'MFD_HUGE_16MB',\n 'MFD_HUGE_1GB',\n 'MFD_HUGE_1MB',\n 'MFD_HUGE_256MB',\n 'MFD_HUGE_2GB',\n 'MFD_HUGE_2MB',\n 'MFD_HUGE_32MB',\n 'MFD_HUGE_512KB',\n 'MFD_HUGE_512MB',\n 'MFD_HUGE_64KB',\n 'MFD_HUGE_8MB',\n 'MFD_HUGE_MASK',\n 'MFD_HUGE_SHIFT',\n 'MutableMapping',\n 'NGROUPS_MAX',\n 'O_ACCMODE',\n 'O_APPEND',\n 'O_ASYNC',\n 'O_CLOEXEC',\n 'O_CREAT',\n 'O_DIRECT',\n 'O_DIRECTORY',\n 'O_DSYNC',\n 'O_EXCL',\n 'O_LARGEFILE',\n 'O_NDELAY',\n 'O_NOATIME',\n 'O_NOCTTY',\n 'O_NOFOLLOW',\n 'O_NONBLOCK',\n 'O_PATH',\n 'O_RDONLY',\n 'O_RDWR',\n 'O_RSYNC',\n 'O_SYNC',\n 'O_TMPFILE',\n 'O_TRUNC',\n 'O_WRONLY',\n 'POSIX_FADV_DONTNEED',\n 'POSIX_FADV_NOREUSE',\n 'POSIX_FADV_NORMAL',\n 'POSIX_FADV_RANDOM',\n 'POSIX_FADV_SEQUENTIAL',\n 'POSIX_FADV_WILLNEED',\n 'POSIX_SPAWN_CLOSE',\n 'POSIX_SPAWN_DUP2',\n 'POSIX_SPAWN_OPEN',\n 'PRIO_PGRP',\n 'PRIO_PROCESS',\n 'PRIO_USER',\n 'P_ALL',\n 'P_NOWAIT',\n 'P_NOWAITO',\n 'P_PGID',\n 'P_PID',\n 'P_WAIT',\n 'PathLike',\n 'RTLD_DEEPBIND',\n 'RTLD_GLOBAL',\n 'RTLD_LAZY',\n 'RTLD_LOCAL',\n 'RTLD_NODELETE',\n 'RTLD_NOLOAD',\n 'RTLD_NOW',\n 'RWF_DSYNC',\n 'RWF_HIPRI',\n 'RWF_NOWAIT',\n 'RWF_SYNC',\n 'R_OK',\n 'SCHED_BATCH',\n 'SCHED_FIFO',\n 'SCHED_IDLE',\n 'SCHED_OTHER',\n 'SCHED_RESET_ON_FORK',\n 'SCHED_RR',\n 'SEEK_CUR',\n 'SEEK_DATA',\n 'SEEK_END',\n 'SEEK_HOLE',\n 'SEEK_SET',\n 'ST_APPEND',\n 'ST_MANDLOCK',\n 'ST_NOATIME',\n 'ST_NODEV',\n 'ST_NODIRATIME',\n 'ST_NOEXEC',\n 'ST_NOSUID',\n 'ST_RDONLY',\n 'ST_RELATIME',\n 'ST_SYNCHRONOUS',\n 'ST_WRITE',\n 'TMP_MAX',\n 'WCONTINUED',\n 'WCOREDUMP',\n 'WEXITED',\n 'WEXITSTATUS',\n 'WIFCONTINUED',\n 'WIFEXITED',\n 'WIFSIGNALED',\n 'WIFSTOPPED',\n 'WNOHANG',\n 'WNOWAIT',\n 'WSTOPPED',\n 'WSTOPSIG',\n 'WTERMSIG',\n 'WUNTRACED',\n 'W_OK',\n 'XATTR_CREATE',\n 'XATTR_REPLACE',\n 'XATTR_SIZE_MAX',\n 'X_OK',\n '_Environ',\n '__all__',\n '__builtins__',\n '__cached__',\n '__doc__',\n '__file__',\n '__loader__',\n '__name__',\n '__package__',\n '__spec__',\n '_check_methods',\n '_execvpe',\n '_exists',\n '_exit',\n '_fspath',\n '_fwalk',\n '_get_exports_list',\n '_putenv',\n '_spawnvef',\n '_unsetenv',\n '_wrap_close',\n 'abc',\n 'abort',\n 'access',\n 'altsep',\n 'chdir',\n 'chmod',\n 'chown',\n 'chroot',\n 'close',\n 'closerange',\n 'confstr',\n 'confstr_names',\n 'copy_file_range',\n 'cpu_count',\n 'ctermid',\n 'curdir',\n 'defpath',\n 'device_encoding',\n 'devnull',\n 'dup',\n 'dup2',\n 'environ',\n 'environb',\n 'error',\n 'execl',\n 'execle',\n 'execlp',\n 'execlpe',\n 'execv',\n 'execve',\n 'execvp',\n 'execvpe',\n 'extsep',\n 'fchdir',\n 'fchmod',\n 'fchown',\n 'fdatasync',\n 'fdopen',\n 'fork',\n 'forkpty',\n 'fpathconf',\n 'fsdecode',\n 'fsencode',\n 'fspath',\n 'fstat',\n 'fstatvfs',\n 'fsync',\n 'ftruncate',\n 'fwalk',\n 'get_blocking',\n 'get_exec_path',\n 'get_inheritable',\n 'get_terminal_size',\n 'getcwd',\n 'getcwdb',\n 'getegid',\n 'getenv',\n 'getenvb',\n 'geteuid',\n 'getgid',\n 'getgrouplist',\n 'getgroups',\n 'getloadavg',\n 'getlogin',\n 'getpgid',\n 'getpgrp',\n 'getpid',\n 'getppid',\n 'getpriority',\n 'getrandom',\n 'getresgid',\n 'getresuid',\n 'getsid',\n 'getuid',\n 'getxattr',\n 'initgroups',\n 'isatty',\n 'kill',\n 'killpg',\n 'lchown',\n 'linesep',\n 'link',\n 'listdir',\n 'listxattr',\n 'lockf',\n 'lseek',\n 'lstat',\n 'major',\n 'makedev',\n 'makedirs',\n 'memfd_create',\n 'minor',\n 'mkdir',\n 'mkfifo',\n 'mknod',\n 'name',\n 'nice',\n 'open',\n 'openpty',\n 'pardir',\n 'path',\n 'pathconf',\n 'pathconf_names',\n 'pathsep',\n 'pipe',\n 'pipe2',\n 'popen',\n 'posix_fadvise',\n 'posix_fallocate',\n 'posix_spawn',\n 'posix_spawnp',\n 'pread',\n 'preadv',\n 'putenv',\n 'pwrite',\n 'pwritev',\n 'read',\n 'readlink',\n 'readv',\n 'register_at_fork',\n 'remove',\n 'removedirs',\n 'removexattr',\n 'rename',\n 'renames',\n 'replace',\n 'rmdir',\n 'scandir',\n 'sched_get_priority_max',\n 'sched_get_priority_min',\n 'sched_getaffinity',\n 'sched_getparam',\n 'sched_getscheduler',\n 'sched_param',\n 'sched_rr_get_interval',\n 'sched_setaffinity',\n 'sched_setparam',\n 'sched_setscheduler',\n 'sched_yield',\n 'sendfile',\n 'sep',\n 'set_blocking',\n 'set_inheritable',\n 'setegid',\n 'seteuid',\n 'setgid',\n 'setgroups',\n 'setpgid',\n 'setpgrp',\n 'setpriority',\n 'setregid',\n 'setresgid',\n 'setresuid',\n 'setreuid',\n 'setsid',\n 'setuid',\n 'setxattr',\n 'spawnl',\n 'spawnle',\n 'spawnlp',\n 'spawnlpe',\n 'spawnv',\n 'spawnve',\n 'spawnvp',\n 'spawnvpe',\n 'st',\n 'stat',\n 'stat_result',\n 'statvfs',\n 'statvfs_result',\n 'strerror',\n 'supports_bytes_environ',\n 'supports_dir_fd',\n 'supports_effective_ids',\n 'supports_fd',\n 'supports_follow_symlinks',\n 'symlink',\n 'sync',\n 'sys',\n 'sysconf',\n 'sysconf_names',\n 'system',\n 'tcgetpgrp',\n 'tcsetpgrp',\n 'terminal_size',\n 'times',\n 'times_result',\n 'truncate',\n 'ttyname',\n 'umask',\n 'uname',\n 'uname_result',\n 'unlink',\n 'unsetenv',\n 'urandom',\n 'utime',\n 'wait',\n 'wait3',\n 'wait4',\n 'waitid',\n 'waitid_result',\n 'waitpid',\n 'walk',\n 'write',\n 'writev']"
     },
     "metadata": {},
     "execution_count": 2
    }
   ],
   "source": [
    "import os\n",
    "\n",
    "dir(os)"
   ]
  },
  {
   "cell_type": "code",
   "execution_count": 5,
   "metadata": {
    "tags": []
   },
   "outputs": [
    {
     "output_type": "stream",
     "name": "stdout",
     "text": "/home/ramoun/Google Drive/bars/side bar/Microverse - Web - Job/micorverse goal/training/computer_science_training/computer/software/tools/programming_languages/general_purpose/python/the_lingo/by_purpose/os_module\n"
    }
   ],
   "source": [
    "kali = os.getcwd\n",
    "print(kali())"
   ]
  },
  {
   "cell_type": "code",
   "execution_count": 7,
   "metadata": {},
   "outputs": [
    {
     "output_type": "execute_result",
     "data": {
      "text/plain": "'/home/ramoun'"
     },
     "metadata": {},
     "execution_count": 7
    }
   ],
   "source": [
    "os.chdir('/home/ramoun')\n",
    "os.getcwd()"
   ]
  },
  {
   "cell_type": "code",
   "execution_count": 8,
   "metadata": {},
   "outputs": [
    {
     "output_type": "execute_result",
     "data": {
      "text/plain": "['.config',\n 'Adobe',\n 'utorrent-server-alpha-v3_3',\n '.PlayOnLinux',\n 'utserver.tar.gz',\n 'n',\n 'winehq.key',\n '.gnupg',\n '.viminfo',\n 'tux',\n 'emoji.conf',\n 'teamviewer_15.8.3_amd64.deb',\n '.bash_logout',\n '.mume',\n '.profile',\n '.bashrc',\n '.gvfs',\n 'Templates',\n '.local',\n '.overgrive.log.old',\n 'Programming',\n 'Programs',\n \"PlayOnLinux's virtual drives\",\n '.dmrc',\n 'qbittorrent-4.2.5.tar.gz',\n 'Videos',\n 'Google Drive',\n '.mozilla',\n 'Corey',\n '.Xauthority',\n '.cache',\n '.tuxcut',\n 'article.html',\n 'Music',\n '.face.icon',\n '.gitconfig',\n 'style.css',\n '.swp',\n '.xsession-errors',\n '.index.html.swp',\n '.vim',\n '.audacity-data',\n '__pycache__',\n '.ssh',\n 'Documents',\n 'Public',\n '.xsession-errors.old',\n 'index.html',\n 'Desktop',\n 'myStuff',\n '.python_history',\n '.overgrive.log',\n '.gnome',\n '.vscode',\n 'Pictures',\n '.face',\n '.dbus',\n '.ICEauthority',\n 'Downloads',\n '.bash_history',\n '.pylint.d',\n '.ipython',\n '.overgrive.lock',\n '.pki',\n '.generators.py.swp',\n '.bashrc.original',\n 'evillimiter']"
     },
     "metadata": {},
     "execution_count": 8
    }
   ],
   "source": [
    "os.listdir()"
   ]
  },
  {
   "cell_type": "code",
   "execution_count": 9,
   "metadata": {
    "tags": []
   },
   "outputs": [
    {
     "output_type": "stream",
     "name": "stdout",
     "text": "/home/ramoun/Adobe\n['Adobe XD 28.1.12 (x64) Multilingual Pre-Activated [FileCR]', 'Adobe Illustrator CC 2015 19.0.0 (64-Bit) + Crack.torrent', 'Adobe XD 28.1.12 (x64) Multilingual Pre-Activated [FileCR].torrent', 'Adobe Photoshop CC 2015 (20150529.r.88) (32+64Bit) + Crack', 'Adobe Photoshop CC 2015 (20150529.r.88) (32+64Bit) + Crack.torrent', 'Adobe Illustrator CC 2015 19.0.0 (64-Bit) + Crack']\n"
    }
   ],
   "source": [
    "os.chdir('/home/ramoun/Adobe/')\n",
    "print(os.getcwd())\n",
    "print(os.listdir())"
   ]
  },
  {
   "cell_type": "code",
   "execution_count": 10,
   "metadata": {},
   "outputs": [
    {
     "output_type": "execute_result",
     "data": {
      "text/plain": "['Adobe XD 28.1.12 (x64) Multilingual Pre-Activated [FileCR]',\n 'Adobe Illustrator CC 2015 19.0.0 (64-Bit) + Crack.torrent',\n 'Adobe XD 28.1.12 (x64) Multilingual Pre-Activated [FileCR].torrent',\n 'Adobe Photoshop CC 2015 (20150529.r.88) (32+64Bit) + Crack',\n 'Adobe Photoshop CC 2015 (20150529.r.88) (32+64Bit) + Crack.torrent',\n 'Adobe Illustrator CC 2015 19.0.0 (64-Bit) + Crack']"
     },
     "metadata": {},
     "execution_count": 10
    }
   ],
   "source": [
    "os.listdir('/home/ramoun/Adobe')"
   ]
  },
  {
   "cell_type": "code",
   "execution_count": 11,
   "metadata": {},
   "outputs": [
    {
     "output_type": "execute_result",
     "data": {
      "text/plain": "['Adobe XD 28.1.12 (x64) Multilingual Pre-Activated [FileCR]',\n 'Adobe Illustrator CC 2015 19.0.0 (64-Bit) + Crack.torrent',\n 'new test dir',\n 'Adobe XD 28.1.12 (x64) Multilingual Pre-Activated [FileCR].torrent',\n 'Adobe Photoshop CC 2015 (20150529.r.88) (32+64Bit) + Crack',\n 'Adobe Photoshop CC 2015 (20150529.r.88) (32+64Bit) + Crack.torrent',\n 'Adobe Illustrator CC 2015 19.0.0 (64-Bit) + Crack']"
     },
     "metadata": {},
     "execution_count": 11
    }
   ],
   "source": [
    "os.mkdir('new test dir')\n",
    "os.listdir()"
   ]
  },
  {
   "cell_type": "code",
   "execution_count": 12,
   "metadata": {},
   "outputs": [
    {
     "output_type": "execute_result",
     "data": {
      "text/plain": "['Adobe XD 28.1.12 (x64) Multilingual Pre-Activated [FileCR]',\n 'Adobe Illustrator CC 2015 19.0.0 (64-Bit) + Crack.torrent',\n 'new test dir',\n 'Adobe XD 28.1.12 (x64) Multilingual Pre-Activated [FileCR].torrent',\n 'Adobe Photoshop CC 2015 (20150529.r.88) (32+64Bit) + Crack',\n 'Adobe Photoshop CC 2015 (20150529.r.88) (32+64Bit) + Crack.torrent',\n 'this is',\n 'Adobe Illustrator CC 2015 19.0.0 (64-Bit) + Crack']"
     },
     "metadata": {},
     "execution_count": 12
    }
   ],
   "source": [
    "os.makedirs('this is/a multi/level/dirs')\n",
    "os.listdir()"
   ]
  },
  {
   "cell_type": "code",
   "execution_count": 13,
   "metadata": {},
   "outputs": [
    {
     "output_type": "execute_result",
     "data": {
      "text/plain": "['Adobe XD 28.1.12 (x64) Multilingual Pre-Activated [FileCR]',\n 'Adobe Illustrator CC 2015 19.0.0 (64-Bit) + Crack.torrent',\n 'Adobe XD 28.1.12 (x64) Multilingual Pre-Activated [FileCR].torrent',\n 'Adobe Photoshop CC 2015 (20150529.r.88) (32+64Bit) + Crack',\n 'Adobe Photoshop CC 2015 (20150529.r.88) (32+64Bit) + Crack.torrent',\n 'this is',\n 'Adobe Illustrator CC 2015 19.0.0 (64-Bit) + Crack']"
     },
     "metadata": {},
     "execution_count": 13
    }
   ],
   "source": [
    "os.rmdir('new test dir')\n",
    "os.listdir()"
   ]
  },
  {
   "cell_type": "code",
   "execution_count": 14,
   "metadata": {},
   "outputs": [
    {
     "output_type": "execute_result",
     "data": {
      "text/plain": "['Adobe XD 28.1.12 (x64) Multilingual Pre-Activated [FileCR]',\n 'Adobe Illustrator CC 2015 19.0.0 (64-Bit) + Crack.torrent',\n 'Adobe XD 28.1.12 (x64) Multilingual Pre-Activated [FileCR].torrent',\n 'Adobe Photoshop CC 2015 (20150529.r.88) (32+64Bit) + Crack',\n 'Adobe Photoshop CC 2015 (20150529.r.88) (32+64Bit) + Crack.torrent',\n 'Adobe Illustrator CC 2015 19.0.0 (64-Bit) + Crack']"
     },
     "metadata": {},
     "execution_count": 14
    }
   ],
   "source": [
    "os.removedirs('this is/a multi/level/dirs')\n",
    "os.listdir()"
   ]
  },
  {
   "cell_type": "code",
   "execution_count": 15,
   "metadata": {},
   "outputs": [
    {
     "output_type": "execute_result",
     "data": {
      "text/plain": "['Adobe XD 28.1.12 (x64) Multilingual Pre-Activated [FileCR]',\n 'Adobe Illustrator CC 2015 19.0.0 (64-Bit) + Crack.torrent',\n 'Adobe XD 28.1.12 (x64) Multilingual Pre-Activated [FileCR].torrent',\n 'Adobe Photoshop CC 2015 (20150529.r.88) (32+64Bit) + Crack',\n 'Adobe Photoshop CC 2015 (20150529.r.88) (32+64Bit) + Crack.torrent',\n 'this is',\n 'Adobe Illustrator CC 2015 19.0.0 (64-Bit) + Crack']"
     },
     "metadata": {},
     "execution_count": 15
    }
   ],
   "source": [
    "os.makedirs('this is/a multi/level/dirs')\n",
    "os.listdir()"
   ]
  },
  {
   "cell_type": "code",
   "execution_count": 16,
   "metadata": {},
   "outputs": [
    {
     "output_type": "error",
     "ename": "OSError",
     "evalue": "[Errno 39] Directory not empty: 'this is'",
     "traceback": [
      "\u001b[0;31m---------------------------------------------------------------------------\u001b[0m",
      "\u001b[0;31mOSError\u001b[0m                                   Traceback (most recent call last)",
      "\u001b[0;32m<ipython-input-16-08bce28472ce>\u001b[0m in \u001b[0;36m<module>\u001b[0;34m\u001b[0m\n\u001b[0;32m----> 1\u001b[0;31m \u001b[0mos\u001b[0m\u001b[0;34m.\u001b[0m\u001b[0mrmdir\u001b[0m\u001b[0;34m(\u001b[0m\u001b[0;34m'this is'\u001b[0m\u001b[0;34m)\u001b[0m\u001b[0;34m\u001b[0m\u001b[0;34m\u001b[0m\u001b[0m\n\u001b[0m\u001b[1;32m      2\u001b[0m \u001b[0mos\u001b[0m\u001b[0;34m.\u001b[0m\u001b[0mlistdir\u001b[0m\u001b[0;34m(\u001b[0m\u001b[0;34m)\u001b[0m\u001b[0;34m\u001b[0m\u001b[0;34m\u001b[0m\u001b[0m\n",
      "\u001b[0;31mOSError\u001b[0m: [Errno 39] Directory not empty: 'this is'"
     ]
    }
   ],
   "source": [
    "os.rmdir('this is')\n",
    "os.listdir()"
   ]
  },
  {
   "cell_type": "code",
   "execution_count": 17,
   "metadata": {},
   "outputs": [
    {
     "output_type": "execute_result",
     "data": {
      "text/plain": "['Adobe XD 28.1.12 (x64) Multilingual Pre-Activated [FileCR]',\n 'Adobe Illustrator CC 2015 19.0.0 (64-Bit) + Crack.torrent',\n 'Adobe XD 28.1.12 (x64) Multilingual Pre-Activated [FileCR].torrent',\n 'Adobe Photoshop CC 2015 (20150529.r.88) (32+64Bit) + Crack',\n 'Adobe Photoshop CC 2015 (20150529.r.88) (32+64Bit) + Crack.torrent',\n 'Adobe Illustrator CC 2015 19.0.0 (64-Bit) + Crack']"
     },
     "metadata": {},
     "execution_count": 17
    }
   ],
   "source": [
    "os.removedirs('this is/a multi/level/dirs')\n",
    "os.listdir()"
   ]
  },
  {
   "cell_type": "code",
   "execution_count": 19,
   "metadata": {},
   "outputs": [
    {
     "output_type": "error",
     "ename": "FileNotFoundError",
     "evalue": "[Errno 2] No such file or directory: 'this is/a multi/level/dirs'",
     "traceback": [
      "\u001b[0;31m---------------------------------------------------------------------------\u001b[0m",
      "\u001b[0;31mFileNotFoundError\u001b[0m                         Traceback (most recent call last)",
      "\u001b[0;32m<ipython-input-19-b2899eb7984d>\u001b[0m in \u001b[0;36m<module>\u001b[0;34m\u001b[0m\n\u001b[0;32m----> 1\u001b[0;31m \u001b[0mos\u001b[0m\u001b[0;34m.\u001b[0m\u001b[0mremovedirs\u001b[0m\u001b[0;34m(\u001b[0m\u001b[0;34m'this is/a multi/level/dirs'\u001b[0m\u001b[0;34m)\u001b[0m\u001b[0;34m\u001b[0m\u001b[0;34m\u001b[0m\u001b[0m\n\u001b[0m\u001b[1;32m      2\u001b[0m \u001b[0mos\u001b[0m\u001b[0;34m.\u001b[0m\u001b[0mlistdir\u001b[0m\u001b[0;34m(\u001b[0m\u001b[0;34m)\u001b[0m\u001b[0;34m\u001b[0m\u001b[0;34m\u001b[0m\u001b[0m\n",
      "\u001b[0;32m/usr/lib/python3.8/os.py\u001b[0m in \u001b[0;36mremovedirs\u001b[0;34m(name)\u001b[0m\n\u001b[1;32m    239\u001b[0m \u001b[0;34m\u001b[0m\u001b[0m\n\u001b[1;32m    240\u001b[0m     \"\"\"\n\u001b[0;32m--> 241\u001b[0;31m     \u001b[0mrmdir\u001b[0m\u001b[0;34m(\u001b[0m\u001b[0mname\u001b[0m\u001b[0;34m)\u001b[0m\u001b[0;34m\u001b[0m\u001b[0;34m\u001b[0m\u001b[0m\n\u001b[0m\u001b[1;32m    242\u001b[0m     \u001b[0mhead\u001b[0m\u001b[0;34m,\u001b[0m \u001b[0mtail\u001b[0m \u001b[0;34m=\u001b[0m \u001b[0mpath\u001b[0m\u001b[0;34m.\u001b[0m\u001b[0msplit\u001b[0m\u001b[0;34m(\u001b[0m\u001b[0mname\u001b[0m\u001b[0;34m)\u001b[0m\u001b[0;34m\u001b[0m\u001b[0;34m\u001b[0m\u001b[0m\n\u001b[1;32m    243\u001b[0m     \u001b[0;32mif\u001b[0m \u001b[0;32mnot\u001b[0m \u001b[0mtail\u001b[0m\u001b[0;34m:\u001b[0m\u001b[0;34m\u001b[0m\u001b[0;34m\u001b[0m\u001b[0m\n",
      "\u001b[0;31mFileNotFoundError\u001b[0m: [Errno 2] No such file or directory: 'this is/a multi/level/dirs'"
     ]
    }
   ],
   "source": [
    "os.removedirs('this is/a multi/level/dirs')\n",
    "os.listdir()"
   ]
  },
  {
   "cell_type": "code",
   "execution_count": 20,
   "metadata": {},
   "outputs": [
    {
     "output_type": "execute_result",
     "data": {
      "text/plain": "['Adobe XD 28.1.12 (x64) Multilingual Pre-Activated [FileCR]',\n 'Adobe Illustrator CC 2015 19.0.0 (64-Bit) + Crack.torrent',\n 'Adobe XD 28.1.12 (x64) Multilingual Pre-Activated [FileCR].torrent',\n 'Adobe Photoshop CC 2015 (20150529.r.88) (32+64Bit) + Crack',\n 'newdir',\n 'Adobe Photoshop CC 2015 (20150529.r.88) (32+64Bit) + Crack.torrent',\n 'Adobe Illustrator CC 2015 19.0.0 (64-Bit) + Crack']"
     },
     "metadata": {},
     "execution_count": 20
    }
   ],
   "source": [
    "os.mkdir('hello')\n",
    "os.rename('hello', 'newdir')\n",
    "os.listdir()"
   ]
  },
  {
   "cell_type": "code",
   "execution_count": 21,
   "metadata": {},
   "outputs": [],
   "source": [
    "os.removedirs('newdir')"
   ]
  },
  {
   "cell_type": "code",
   "execution_count": 22,
   "metadata": {},
   "outputs": [
    {
     "output_type": "execute_result",
     "data": {
      "text/plain": "['Adobe XD 28.1.12 (x64) Multilingual Pre-Activated [FileCR]',\n 'Adobe Illustrator CC 2015 19.0.0 (64-Bit) + Crack.torrent',\n 'Adobe XD 28.1.12 (x64) Multilingual Pre-Activated [FileCR].torrent',\n 'Adobe Photoshop CC 2015 (20150529.r.88) (32+64Bit) + Crack',\n 'Adobe Photoshop CC 2015 (20150529.r.88) (32+64Bit) + Crack.torrent',\n 'Adobe Illustrator CC 2015 19.0.0 (64-Bit) + Crack']"
     },
     "metadata": {},
     "execution_count": 22
    }
   ],
   "source": [
    "os.listdir()"
   ]
  },
  {
   "cell_type": "code",
   "execution_count": 23,
   "metadata": {
    "tags": []
   },
   "outputs": [
    {
     "output_type": "stream",
     "name": "stdout",
     "text": "/home/ramoun/Adobe\nNone\nos.stat_result(st_mode=16877, st_ino=4202716, st_dev=2049, st_nlink=2, st_uid=1000, st_gid=1000, st_size=4096, st_atime=1597402126, st_mtime=1597402126, st_ctime=1597402126)\n"
    }
   ],
   "source": [
    "print(os.getcwd())\n",
    "print(os.mkdir('newdir'))\n",
    "print(os.stat('newdir'))"
   ]
  },
  {
   "cell_type": "code",
   "execution_count": 32,
   "metadata": {
    "tags": []
   },
   "outputs": [
    {
     "output_type": "stream",
     "name": "stdout",
     "text": "newdir\n1597402126.8798475\n2020-08-14 06:48:46.879848\n"
    }
   ],
   "source": [
    "import datetime\n",
    "\n",
    "print(os.listdir()[os.listdir().index(('newdir'))])\n",
    "\n",
    "mtime = os.stat('newdir').st_mtime\n",
    "print(mtime)\n",
    "\n",
    "print(datetime.datetime.fromtimestamp(mtime))"
   ]
  },
  {
   "cell_type": "code",
   "execution_count": 33,
   "metadata": {
    "tags": [
     "outputPrepend"
    ]
   },
   "outputs": [
    {
     "output_type": "stream",
     "name": "stdout",
     "text": ".png', 'editing_the_readme.png', 'status_after_creating_readme.png', 'created_repo.png']\n\ncurrent path:  /home/ramoun/myStuff/Career/Contribution/Odin/curriculum/archive/extra_stuff/old_lessons\ndirectories:  ['web_development_101', 'ruby', 'rails', 'introduction_to_web_development']\nfiles:  []\n\ncurrent path:  /home/ramoun/myStuff/Career/Contribution/Odin/curriculum/archive/extra_stuff/old_lessons/web_development_101\ndirectories:  []\nfiles:  ['how_are_websites_built.md', 'database_basics.md', 'project_ruby.md', 'security_ssl_and_best_practices.md', 'the_cloud_hosting_and_saas.md', 'principles_of_good_programming.md', 'ruby_basics.md', 'ftp_basics.md', 'terms_to_know.md', 'introduction_to_the_back_end.md']\n\ncurrent path:  /home/ramoun/myStuff/Career/Contribution/Odin/curriculum/archive/extra_stuff/old_lessons/ruby\ndirectories:  ['basics', 'basic_projects']\nfiles:  ['oop.md', 'a_deeper_look_at_git.md', 'conclusion.md', 'a_very_brief_intro_to_cs.md', 'using_git_in_the_real_world.md', 'project_building_blocks.md', 'project_recursion.md', 'project_final.md', 'data_structures_algorithms.md', 'project_testing.md', 'serialization.md', 'project_linked_lists.md', 'how_this_course_will_work.md', 'introduction_to_rspec.md', 'project_data_structures_algorithms.md', 'project_web.md', 'bringing_ruby_online.md', 'project_advanced_building_blocks.md', 'dance_squares.jpg', 'building_blocks.md', 'advanced_building_blocks.md', 'project_file_io.md', 'project_oop.md', 'recursion.md']\n\ncurrent path:  /home/ramoun/myStuff/Career/Contribution/Odin/curriculum/archive/extra_stuff/old_lessons/ruby/basics\ndirectories:  []\nfiles:  ['hashes.md', 'variables_strings_and_numbers.md', 'methods.md', 'conditional_logic.md', 'problem_solving.md', 'debugging.md', 'basic_enumerable_methods.md', 'how_this_course_will_work.md', 'loops.md', '0 - Briefing.md', 'arrays.md']\n\ncurrent path:  /home/ramoun/myStuff/Career/Contribution/Odin/curriculum/archive/extra_stuff/old_lessons/ruby/basic_projects\ndirectories:  []\nfiles:  ['project_bubble_sort.md', 'project_caesar_cipher.md', 'project_stock_picker.md', 'project_sub_strings.md']\n\ncurrent path:  /home/ramoun/myStuff/Career/Contribution/Odin/curriculum/archive/extra_stuff/old_lessons/rails\ndirectories:  []\nfiles:  ['project_queries.md', 'controller_basics.md', 'active_record_associations.md', 'conclusion.md', 'mailers.md', 'form_basics.md', 'routing.md', 'api_basics.md', 'project_auth.md', 'forms_advanced.md', 'databases.md', 'project_forms.md', 'project_basic_rvc.md', 'asset_pipeline.md', 'web_refresher.md', 'sinatra.md', 'project_final.md', 'active_record_callbacks.md', 'project_apis.md', 'active_record_queries.md', 'views.md', 'api_interfacing.md', 'advanced_topics.md', 'project_forms_advanced.md', 'testing.md', 'project_associations.md', 'deployment.md', 'project_lets_build.md', 'project_associations_2.md', 'project_ar_basics.md', 'project_feet_wet.md', 'active_record_basics.md', 'project_databases.md', 'project_sinatra.md', 'project_mailers.md', 'introduction.md', 'sessions_cookies_authentication.md']\n\ncurrent path:  /home/ramoun/myStuff/Career/Contribution/Odin/curriculum/archive/extra_stuff/old_lessons/introduction_to_web_development\ndirectories:  []\nfiles:  ['conclusion.md', 'getting_hired_as_a_web_dev.md', 'the_best_web_devs.md', 'web_dev_jobs.md', 'what_does_a_web_dev_do.md', 'web_dev_communities.md', 'tools_of_the_trade.md']\n\ncurrent path:  /home/ramoun/myStuff/Career/Contribution/Odin/curriculum/archive/extra_stuff/lessons_in_progress\ndirectories:  ['pairing', 'git']\nfiles:  ['html-accessibility.md', 'text_editor_guide.md', 'join_the_odin_community.md', 'learning_sass.md', 'sublimetext_windows_CLI.md', 'extras_from_how_the_web_works.md', 'problem_solving.md', 'web_developer_tools.md', 'linux_guide.md']\n\ncurrent path:  /home/ramoun/myStuff/Career/Contribution/Odin/curriculum/archive/extra_stuff/lessons_in_progress/pairing\ndirectories:  []\nfiles:  ['finish.md', 'sample_pairing_session.md', 'why_pair.md', 'how_to_pair.md', 'index.md']\n\ncurrent path:  /home/ramoun/myStuff/Career/Contribution/Odin/curriculum/archive/extra_stuff/lessons_in_progress/git\ndirectories:  []\nfiles:  ['atomic_commits.md', 'extras_from_git_intro.md', 'git_basics.md', 'git_init_tutorial.md']\n\ncurrent path:  /home/ramoun/myStuff/Career/Contribution/Odin/curriculum/archive/extra_stuff/resource_warehouse\ndirectories:  []\nfiles:  ['command_line.md', 'rails.md', 'databases.md', 'misc.md', 'html_css.md', 'mobile.md', 'javascript.md', 'start_up.md', 'getting_hired.md', 'design.md', 'algorithms.md', 'ruby.md', 'rspec.md', 'git.md', 'web_technologies.md']\n\ncurrent path:  /home/ramoun/myStuff/Career/Contribution/Odin/curriculum/archive/javascript\ndirectories:  []\nfiles:  ['js_basics.md', 'js_frameworks.md', 'templating.md', 'conclusion.md', 'project_forms.md', 'project_canvas.md', 'project_js_basics.md', 'project_js_frameworks.md', 'widgets.md', 'project_final_js.md', 'project_apis.md', 'project_events_effects.md', 'jq_basics.md', 'workflow_tools.md', 'project_node.md', 'event_driven.md', 'ajax.md', 'project_ajax_forms.md', 'project_jq_basics.md', 'events_effects.md', 'project_scopes_closures.md', 'objects_prototypes.md', 'canvas.md', 'project_widgets.md', 'scope_closures.md', 'project_callbacks.md', 'deep_dive_functions.md', 'server_side_js.md', 'organizing_code.md', 'jquery_forms.md', 'project_functions.md', 'js_testing.md', 'project_rails_backend.md', 'rails_backend.md', 'comparing_to_ruby.md', 'javascript_apis.md', 'introduction.md', 'js_to_browser.md']\n\ncurrent path:  /home/ramoun/myStuff/Career/Contribution/Odin/curriculum/archive/git\ndirectories:  []\nfiles:  ['working_with_git_branches.md', 'git_remotes.md', 'git_intro.md', 'undo_changes.md', 'project_git_remotes.md', 'project_git_branches.md', 'git_branches_intro.md', 'student_list.md', 'git_conclusion.md', 'project_undo_changes.md']\n\ncurrent path:  /home/ramoun/myStuff/Career/Contribution/Odin/curriculum/web_development_101\ndirectories:  ['the_back_end', 'archive', 'the_front_end', 'javascript_basics', 'installations', 'tying_it_all_together', 'the_basics', 'git_basics']\nfiles:  ['README.md']\n\ncurrent path:  /home/ramoun/myStuff/Career/Contribution/Odin/curriculum/web_development_101/the_back_end\ndirectories:  []\nfiles:  ['introduction_to_the_backend_lesson.md', 'introduction_to_frameworks.md']\n\ncurrent path:  /home/ramoun/myStuff/Career/Contribution/Odin/curriculum/web_development_101/archive\ndirectories:  ['JS101', 'ruby', 'pair_programming']\nfiles:  ['project_js_jquery.md', 'project_installations.md', 'javascript_basics.md', 'jquery_basics.md']\n\ncurrent path:  /home/ramoun/myStuff/Career/Contribution/Odin/curriculum/web_development_101/archive/JS101\ndirectories:  ['oldFundamentalsLessons']\nfiles:  ['README.md', 'JS_resources.md', 'introduction-101.md']\n\ncurrent path:  /home/ramoun/myStuff/Career/Contribution/Odin/curriculum/web_development_101/archive/JS101/oldFundamentalsLessons\ndirectories:  []\nfiles:  ['fundamentals-3-project.md', 'fundamentals-3.md', 'fundamentals-2-project.md', 'fundamentals-1.md', 'fundamentals-1-project.md', 'fundamentals-2.md']\n\ncurrent path:  /home/ramoun/myStuff/Career/Contribution/Odin/curriculum/web_development_101/archive/ruby\ndirectories:  []\nfiles:  ['database_basics_lesson.md']\n\ncurrent path:  /home/ramoun/myStuff/Career/Contribution/Odin/curriculum/web_development_101/archive/pair_programming\ndirectories:  []\nfiles:  ['introduction_to_pair_programming.md', 'project_pairing.md', 'prepare_to_remote_pair.md']\n\ncurrent path:  /home/ramoun/myStuff/Career/Contribution/Odin/curriculum/web_development_101/the_front_end\ndirectories:  []\nfiles:  ['introduction_to_the_front_end.md', 'developer_tools.md', 'project_html_css.md', 'html_css_basics.md']\n\ncurrent path:  /home/ramoun/myStuff/Career/Contribution/Odin/curriculum/web_development_101/javascript_basics\ndirectories:  []\nfiles:  ['fundamentals-4.md', 'fundamentals-3.md', 'clean_code.md', 'project_etch_a_sketch.md', 'fundamentals-5.md', 'project_rock_paper_scissors.md', 'fundamentals-1.md', 'DOM-manipulation.md', 'project_calculator.md', 'developer_tools_2.md', 'fundamentals-2.md']\n\ncurrent path:  /home/ramoun/myStuff/Career/Contribution/Odin/curriculum/web_development_101/installations\ndirectories:  []\nfiles:  ['setting_up_git.md', 'installation_overview.md', 'installing_node.md', 'prerequisites.md', 'command_line_basics.md', 'text_editors.md']\n\ncurrent path:  /home/ramoun/myStuff/Career/Contribution/Odin/curriculum/web_development_101/tying_it_all_together\ndirectories:  []\nfiles:  ['conclusion.md']\n\ncurrent path:  /home/ramoun/myStuff/Career/Contribution/Odin/curriculum/web_development_101/the_basics\ndirectories:  []\nfiles:  ['join_the_odin_community.md', 'how_does_the_web_work.md', 'how_this_course_will_work.md', 'gearing_up.md', 'introduction_to_web_development.md']\n\ncurrent path:  /home/ramoun/myStuff/Career/Contribution/Odin/curriculum/web_development_101/git_basics\ndirectories:  []\nfiles:  ['introduction_to_git.md', 'git_basics.md', 'project_practicing_git_basics.md']\n\ncurrent path:  /home/ramoun/myStuff/Career/Contribution/Odin/curriculum/.github\ndirectories:  []\nfiles:  ['PULL_REQUEST_TEMPLATE.md']\n\ncurrent path:  /home/ramoun/myStuff/Career/Contribution/Odin/curriculum/getting_hired\ndirectories:  []\nfiles:  ['conclusion.md', 'what_companies_want.md', 'qualify_leads.md', 'project_resume.md', 'alternatives.md', 'collect_leads.md', 'README.md', 'strategy.md', 'applying.md', 'starts_with_you.md', 'handling_an_offer.md', 'preparing_to_interview.md', 'project_portfolio.md', 'introduction.md', 'preparation.md']\n\ncurrent path:  /home/ramoun/myStuff/Career/Contribution/Odin/curriculum/nodeJS\ndirectories:  ['express-basics', 'testing', 'getting-started', 'authentication', 'APIs']\nfiles:  ['README.md', 'Odin-Book.md']\n\ncurrent path:  /home/ramoun/myStuff/Career/Contribution/Odin/curriculum/nodeJS/express-basics\ndirectories:  []\nfiles:  ['Express-Mini-Message-Board.md', 'Express-Lesson-1.md', 'Express-Lesson-3.md', 'Express-Lesson-2.md', 'Express-Introduction.md', 'Express-Lesson-4.md', 'Express-Lesson-5.md', 'Express-Inventory-Application.md']\n\ncurrent path:  /home/ramoun/myStuff/Career/Contribution/Odin/curriculum/nodeJS/testing\ndirectories:  []\nfiles:  ['Testing.md', 'Testing-Mongo.md']\n\ncurrent path:  /home/ramoun/myStuff/Career/Contribution/Odin/curriculum/nodeJS/getting-started\ndirectories:  []\nfiles:  ['Getting-Started-Project.md', 'Introduction.md', 'Getting-Started.md']\n\ncurrent path:  /home/ramoun/myStuff/Career/Contribution/Odin/curriculum/nodeJS/authentication\ndirectories:  []\nfiles:  ['Security-Configuration.md', 'Authentication.md', 'Members-Only.md']\n\ncurrent path:  /home/ramoun/myStuff/Career/Contribution/Odin/curriculum/nodeJS/APIs\ndirectories:  []\nfiles:  ['API-Security.md', 'APIs.md', 'Blog-Project.md']\n\ncurrent path:  /home/ramoun/myStuff/Career/Contribution/Odin/curriculum/databases\ndirectories:  []\nfiles:  ['databases.md', 'database_basics_lesson.md', 'README.md', 'project_databases.md']\n\ncurrent path:  /home/ramoun/myStuff/Career/Contribution/Odin/curriculum/.git\ndirectories:  ['info', 'hooks', 'logs', 'branches', 'objects', 'refs']\nfiles:  ['index', 'ORIG_HEAD', 'HEAD', 'description', 'FETCH_HEAD', 'COMMIT_EDITMSG', 'config', 'packed-refs']\n\ncurrent path:  /home/ramoun/myStuff/Career/Contribution/Odin/curriculum/.git/info\ndirectories:  []\nfiles:  ['exclude']\n\ncurrent path:  /home/ramoun/myStuff/Career/Contribution/Odin/curriculum/.git/hooks\ndirectories:  []\nfiles:  ['pre-applypatch.sample', 'pre-receive.sample', 'pre-merge-commit.sample', 'prepare-commit-msg.sample', 'pre-rebase.sample', 'pre-commit.sample', 'update.sample', 'applypatch-msg.sample', 'commit-msg.sample', 'post-update.sample', 'pre-push.sample', 'fsmonitor-watchman.sample']\n\ncurrent path:  /home/ramoun/myStuff/Career/Contribution/Odin/curriculum/.git/logs\ndirectories:  ['refs']\nfiles:  ['HEAD']\n\ncurrent path:  /home/ramoun/myStuff/Career/Contribution/Odin/curriculum/.git/logs/refs\ndirectories:  ['remotes', 'heads']\nfiles:  []\n\ncurrent path:  /home/ramoun/myStuff/Career/Contribution/Odin/curriculum/.git/logs/refs/remotes\ndirectories:  ['origin']\nfiles:  []\n\ncurrent path:  /home/ramoun/myStuff/Career/Contribution/Odin/curriculum/.git/logs/refs/remotes/origin\ndirectories:  []\nfiles:  ['master', 'HEAD', 'rails-chat-project']\n\ncurrent path:  /home/ramoun/myStuff/Career/Contribution/Odin/curriculum/.git/logs/refs/heads\ndirectories:  []\nfiles:  ['master']\n\ncurrent path:  /home/ramoun/myStuff/Career/Contribution/Odin/curriculum/.git/branches\ndirectories:  []\nfiles:  []\n\ncurrent path:  /home/ramoun/myStuff/Career/Contribution/Odin/curriculum/.git/objects\ndirectories:  ['info', 'pack']\nfiles:  []\n\ncurrent path:  /home/ramoun/myStuff/Career/Contribution/Odin/curriculum/.git/objects/info\ndirectories:  []\nfiles:  []\n\ncurrent path:  /home/ramoun/myStuff/Career/Contribution/Odin/curriculum/.git/objects/pack\ndirectories:  []\nfiles:  ['pack-1302921078c005d86578c02c88cc410a6966f0ff.pack', 'pack-a70413be3972b48868fe5808475f0229dd95c049.pack', 'pack-1302921078c005d86578c02c88cc410a6966f0ff.idx', 'pack-a70413be3972b48868fe5808475f0229dd95c049.idx']\n\ncurrent path:  /home/ramoun/myStuff/Career/Contribution/Odin/curriculum/.git/refs\ndirectories:  ['tags', 'remotes', 'heads']\nfiles:  []\n\ncurrent path:  /home/ramoun/myStuff/Career/Contribution/Odin/curriculum/.git/refs/tags\ndirectories:  []\nfiles:  []\n\ncurrent path:  /home/ramoun/myStuff/Career/Contribution/Odin/curriculum/.git/refs/remotes\ndirectories:  ['origin']\nfiles:  []\n\ncurrent path:  /home/ramoun/myStuff/Career/Contribution/Odin/curriculum/.git/refs/remotes/origin\ndirectories:  []\nfiles:  ['master', 'HEAD', 'rails-chat-project']\n\ncurrent path:  /home/ramoun/myStuff/Career/Contribution/Odin/curriculum/.git/refs/heads\ndirectories:  []\nfiles:  ['master']\n\ncurrent path:  /home/ramoun/myStuff/Career/Contribution/Odin/curriculum/javascript\ndirectories:  ['finishing-up', 'js-in-the-real-world', 'introduction', 'js-rails', 'testing', 'organizing-js', 'frameworks', 'async-apis']\nfiles:  ['README.md']\n\ncurrent path:  /home/ramoun/myStuff/Career/Contribution/Odin/curriculum/javascript/finishing-up\ndirectories:  []\nfiles:  ['conclusion.md', 'project_final_js.md']\n\ncurrent path:  /home/ramoun/myStuff/Career/Contribution/Odin/curriculum/javascript/js-in-the-real-world\ndirectories:  []\nfiles:  ['webpack-2.md', 'ui-Interactions.md', 'forms.md', 'linting.md', 'es6-features.md']\n\ncurrent path:  /home/ramoun/myStuff/Career/Contribution/Odin/curriculum/javascript/introduction\ndirectories:  []\nfiles:  ['problem_solving.md', 'js101-review.md', 'introduction.md']\n\ncurrent path:  /home/ramoun/myStuff/Career/Contribution/Odin/curriculum/javascript/js-rails\ndirectories:  []\nfiles:  ['project_rails_backend.md', 'rails_backend.md']\n\ncurrent path:  /home/ramoun/myStuff/Career/Contribution/Odin/curriculum/javascript/testing\ndirectories:  []\nfiles:  ['testing-2.md', 'battleship-project.md', 'testing-practice.md', 'testing-1.md']\n\ncurrent path:  /home/ramoun/myStuff/Career/Contribution/Odin/curriculum/javascript/organizing-js\ndirectories:  []\nfiles:  ['factory-functions.md', 'oop-concepts.md', 'project.md', 'tic-tac-toe-project.md', 'es6-modules.md', 'restaurant-project.md', 'classes.md', 'organizing-introduction.md', 'objects-constructors.md', 'library-project.md']\n\ncurrent path:  /home/ramoun/myStuff/Career/Contribution/Odin/curriculum/javascript/frameworks\ndirectories:  []\nfiles:  ['framework-template.md', 'frameworks-project.md', 'angular.md', 'vue.md', 'react-introduction.md', 'frameworks-introduction.md']\n\ncurrent path:  /home/ramoun/myStuff/Career/Contribution/Odin/curriculum/javascript/async-apis\ndirectories:  ['images']\nfiles:  ['project.md', 'promises-async.md', 'json.md', 'APIs.md', 'async-await.md']\n\ncurrent path:  /home/ramoun/myStuff/Career/Contribution/Odin/curriculum/javascript/async-apis/images\ndirectories:  []\nfiles:  ['apiresponse.png']\n\ncurrent path:  /home/ramoun/myStuff/Career/Contribution/Odin/curriculum/ruby_programming\ndirectories:  ['introduction', 'archive', 'future_lessons', 'basic_ruby', 'intermediate_ruby', 'testing_with_rspec', 'basic_ruby_projects', 'conclusion', 'computer_science', 'git']\nfiles:  ['README.md']\n\ncurrent path:  /home/ramoun/myStuff/Career/Contribution/Odin/curriculum/ruby_programming/introduction\ndirectories:  []\nfiles:  ['how_this_course_will_work.md', 'installing_ruby.md']\n\ncurrent path:  /home/ramoun/myStuff/Career/Contribution/Odin/curriculum/ruby_programming/archive\ndirectories:  ['introduction', 'basic_ruby']\nfiles:  []\n\ncurrent path:  /home/ramoun/myStuff/Career/Contribution/Odin/curriculum/ruby_programming/archive/introduction\ndirectories:  []\nfiles:  ['lesson_how_this_course_will_work.md']\n\ncurrent path:  /home/ramoun/myStuff/Career/Contribution/Odin/curriculum/ruby_programming/archive/basic_ruby\ndirectories:  []\nfiles:  ['ruby_basics_lesson.md', 'project_building_blocks.md', 'lesson_advanced_building_blocks.md', 'lesson_building_blocks.md', 'project_advanced_building_blocks.md', 'ruby_project.md']\n\ncurrent path:  /home/ramoun/myStuff/Career/Contribution/Odin/curriculum/ruby_programming/future_lessons\ndirectories:  []\nfiles:  ['advanced_enumerables.md']\n\ncurrent path:  /home/ramoun/myStuff/Career/Contribution/Odin/curriculum/ruby_programming/basic_ruby\ndirectories:  []\nfiles:  ['predicate_enumerable_methods.md', 'hashes.md', 'methods.md', 'conditional_logic.md', 'problem_solving.md', 'debugging.md', 'basic_enumerable_methods.md', 'loops.md', 'input_and_output.md', 'variables.md', 'enumerable_exercises.md', 'arrays.md', 'basic_data_types.md']\n\ncurrent path:  /home/ramoun/myStuff/Career/Contribution/Odin/curriculum/ruby_programming/intermediate_ruby\ndirectories:  []\nfiles:  ['lesson_serialization.md', 'lesson_oop.md', 'event_attendees.csv', 'event_attendees_full.csv', 'project_file_io.md', 'project_oop.md', 'project_event_manager.md']\n\ncurrent path:  /home/ramoun/myStuff/Career/Contribution/Odin/curriculum/ruby_programming/testing_with_rspec\ndirectories:  []\nfiles:  ['introduction_to_rspec.md', 'test_driven_development.md', 'project_testing_your_ruby_code.md']\n\ncurrent path:  /home/ramoun/myStuff/Career/Contribution/Odin/curriculum/ruby_programming/basic_ruby_projects\ndirectories:  []\nfiles:  ['bubble_sort.md', 'caesar_cipher.md', 'sub_strings.md', 'stock_picker.md']\n\ncurrent path:  /home/ramoun/myStuff/Career/Contribution/Odin/curriculum/ruby_programming/conclusion\ndirectories:  []\nfiles:  ['project_ruby_final.md', 'lesson_conclusion.md']\n\ncurrent path:  /home/ramoun/myStuff/Career/Contribution/Odin/curriculum/ruby_programming/computer_science\ndirectories:  []\nfiles:  ['project_recursion.md', 'project_linked_lists.md', 'lesson_common_data_structures_algorithms.md', 'lesson_recursion.md', 'project_data_structures_algorithms.md', 'lesson_a_very_brief_intro_to_cs.md']\n\ncurrent path:  /home/ramoun/myStuff/Career/Contribution/Odin/curriculum/ruby_programming/git\ndirectories:  []\nfiles:  ['lesson_a_deeper_look_at_git.md', 'lesson_using_git_in_the_real_world.md']\n\ncurrent path:  /home/ramoun/myStuff/Career/Contribution/Odin/curriculum/html_css\ndirectories:  []\nfiles:  ['new_html5.md', 'build_tools.md', 'images.md', 'flexbox_layout.md', 'grid_layout.md', 'conclusion.md', 'css_grids.md', 'links.md', 'project_html_forms.md', 'css_frameworks.md', 'html_forms.md', 'project_responsive.md', 'design_ux.md', 'project_css_frameworks.md', 'best_practices.md', 'README.md', 'project_positioning.md', 'lists.md', 'preprocessors.md', 'project_backgrounds.md', 'backgrounds.md', 'responsive_design.md', 'css_basics.md', 'project_bootstrap.md', 'project_design.md', 'tables.md', 'html5_basics.md', 'layout_lesson_template.md', 'box_model.md', 'typography.md', 'introduction.md', 'floats_positioning.md', 'stylings.md', 'project_media.md']\n\ncurrent path:  /home/ramoun/myStuff/Career/Contribution/Odin/curriculum/templates\ndirectories:  []\nfiles:  ['TOPStyleGuide.md', 'project.md', 'lesson.md']\n\n"
    }
   ],
   "source": [
    "os.chdir('/home/ramoun/myStuff')\n",
    "for dirpath, dirnames, filenames in os.walk(os.getcwd()):\n",
    "    print('current path: ', dirpath)\n",
    "    print('directories: ', dirnames)\n",
    "    print('files: ', filenames)\n",
    "    print()"
   ]
  },
  {
   "cell_type": "code",
   "execution_count": 39,
   "metadata": {},
   "outputs": [
    {
     "output_type": "error",
     "ename": "FileNotFoundError",
     "evalue": "[Errno 2] No such file or directory: 'Dojo'",
     "traceback": [
      "\u001b[0;31m---------------------------------------------------------------------------\u001b[0m",
      "\u001b[0;31mFileNotFoundError\u001b[0m                         Traceback (most recent call last)",
      "\u001b[0;32m<ipython-input-39-e04cd7881f20>\u001b[0m in \u001b[0;36m<module>\u001b[0;34m\u001b[0m\n\u001b[0;32m----> 1\u001b[0;31m \u001b[0mos\u001b[0m\u001b[0;34m.\u001b[0m\u001b[0mchdir\u001b[0m\u001b[0;34m(\u001b[0m\u001b[0;34m'Dojo'\u001b[0m\u001b[0;34m)\u001b[0m\u001b[0;34m\u001b[0m\u001b[0;34m\u001b[0m\u001b[0m\n\u001b[0m\u001b[1;32m      2\u001b[0m \u001b[0mos\u001b[0m\u001b[0;34m.\u001b[0m\u001b[0mgetcwd\u001b[0m\u001b[0;34m(\u001b[0m\u001b[0;34m)\u001b[0m\u001b[0;34m\u001b[0m\u001b[0;34m\u001b[0m\u001b[0m\n",
      "\u001b[0;31mFileNotFoundError\u001b[0m: [Errno 2] No such file or directory: 'Dojo'"
     ]
    }
   ],
   "source": [
    "os.chdir('Dojo')\n",
    "os.getcwd()"
   ]
  },
  {
   "cell_type": "code",
   "execution_count": 43,
   "metadata": {
    "tags": []
   },
   "outputs": [
    {
     "output_type": "stream",
     "name": "stdout",
     "text": "/home/ramoun\n"
    }
   ],
   "source": [
    "print(os.environ.get('HOME'))"
   ]
  },
  {
   "cell_type": "code",
   "execution_count": 45,
   "metadata": {},
   "outputs": [],
   "source": [
    "home_dir_path = os.environ.get('HOME')\n",
    "new_file_name = 'newFile.txt'\n",
    "new_file_path = home_dir_path + '/' + new_file_name\n",
    "\n",
    "with open(new_file_name, 'w') as file:\n",
    "    file.write('hi\\n')    \n"
   ]
  },
  {
   "cell_type": "code",
   "execution_count": 46,
   "metadata": {},
   "outputs": [],
   "source": [
    "home_dir_path = os.environ.get('HOME')\n",
    "new_file_name = 'newFile.txt'\n",
    "new_file_path = os.path.join(home_dir_path , new_file_name)\n",
    "\n",
    "with open(new_file_name, 'w') as file:\n",
    "    file.write('hi\\n')    \n",
    "\n"
   ]
  },
  {
   "cell_type": "code",
   "execution_count": 47,
   "metadata": {},
   "outputs": [
    {
     "output_type": "execute_result",
     "data": {
      "text/plain": "'file.txt'"
     },
     "metadata": {},
     "execution_count": 47
    }
   ],
   "source": [
    "os.path.basename('/home/ramoun/file.txt')"
   ]
  },
  {
   "cell_type": "code",
   "execution_count": 49,
   "metadata": {
    "tags": []
   },
   "outputs": [
    {
     "output_type": "stream",
     "name": "stdout",
     "text": "/home/ramoun\n"
    }
   ],
   "source": [
    "print(os.path.dirname('/home/ramoun/file.txt'))\n"
   ]
  },
  {
   "cell_type": "code",
   "execution_count": 50,
   "metadata": {
    "tags": []
   },
   "outputs": [
    {
     "output_type": "stream",
     "name": "stdout",
     "text": "('/home/ramoun', 'file.txt')\n"
    }
   ],
   "source": [
    "print(os.path.split('/home/ramoun/file.txt'))\n"
   ]
  },
  {
   "cell_type": "code",
   "execution_count": 52,
   "metadata": {
    "tags": []
   },
   "outputs": [
    {
     "output_type": "stream",
     "name": "stdout",
     "text": "False\n"
    }
   ],
   "source": [
    "print(os.path.exists('home/ramoun/file.txt')) # output: False\n"
   ]
  },
  {
   "cell_type": "code",
   "execution_count": 62,
   "metadata": {},
   "outputs": [
    {
     "output_type": "execute_result",
     "data": {
      "text/plain": "True"
     },
     "metadata": {},
     "execution_count": 62
    }
   ],
   "source": [
    "os.path.isdir('/home/ramoun') # output: True"
   ]
  },
  {
   "cell_type": "code",
   "execution_count": 58,
   "metadata": {},
   "outputs": [
    {
     "output_type": "execute_result",
     "data": {
      "text/plain": "False"
     },
     "metadata": {},
     "execution_count": 58
    }
   ],
   "source": [
    "os.path.isfile('/home/ramoun/shti.txt')"
   ]
  },
  {
   "cell_type": "code",
   "execution_count": 63,
   "metadata": {},
   "outputs": [
    {
     "output_type": "execute_result",
     "data": {
      "text/plain": "('some/ranodom/path/file', '.txt')"
     },
     "metadata": {},
     "execution_count": 63
    }
   ],
   "source": [
    "os.path.splitext('some/ranodom/path/file.txt')"
   ]
  },
  {
   "cell_type": "code",
   "execution_count": 66,
   "metadata": {
    "tags": []
   },
   "outputs": [
    {
     "output_type": "execute_result",
     "data": {
      "text/plain": "tuple"
     },
     "metadata": {},
     "execution_count": 66
    }
   ],
   "source": [
    "type(os.path.splitext('some/ranodom/path/file.txt'))"
   ]
  }
 ]
}